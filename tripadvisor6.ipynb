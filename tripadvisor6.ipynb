{
 "cells": [
  {
   "cell_type": "code",
   "execution_count": 1,
   "outputs": [],
   "source": [
    "#Data Analysis\n",
    "import pandas as pd\n",
    "import matplotlib.pyplot as plt\n",
    "import numpy as np\n",
    "%matplotlib inline\n",
    "\n",
    "#Data Preprocessing and Feature Engineering\n",
    "import re\n",
    "import string\n",
    "from nltk.tokenize import word_tokenize\n",
    "from nltk.corpus import stopwords as sw\n",
    "from sklearn.feature_extraction.text import CountVectorizer, TfidfTransformer\n",
    "from nltk.stem.snowball import ItalianStemmer\n",
    "\n",
    "#Model Selection and Validation\n",
    "from sklearn.naive_bayes import MultinomialNB\n",
    "from sklearn.linear_model import LogisticRegression\n",
    "from sklearn.model_selection import train_test_split\n",
    "from sklearn.pipeline import Pipeline\n",
    "from sklearn.metrics import confusion_matrix, classification_report, f1_score\n",
    "\n",
    "\n",
    "def labels_to_ints(labels):\n",
    "    return np.array(list(map(lambda x : 1 if x == \"pos\" else 0, labels)))\n",
    "\n",
    "def ints_to_labels(labels):\n",
    "    return list(map(lambda x : \"pos\" if x == 1 else \"neg\", labels))"
   ],
   "metadata": {
    "collapsed": false,
    "pycharm": {
     "name": "#%%\n",
     "is_executing": false
    }
   }
  },
  {
   "cell_type": "code",
   "execution_count": 2,
   "outputs": [
    {
     "data": {
      "text/plain": "41077"
     },
     "metadata": {},
     "output_type": "execute_result",
     "execution_count": 2
    }
   ],
   "source": [
    "dev_df = pd.read_csv(\"datasets/development.csv\")\n",
    "X_dev = dev_df.loc[:, 'text']\n",
    "y_dev = labels_to_ints(dev_df.loc[:, 'class'])\n",
    "\n",
    "ev_df = pd.read_csv(\"datasets/evaluation.csv\")\n",
    "X_ev = ev_df.loc[:, 'text']\n",
    "\n",
    "X_dev.shape[0] + X_ev.shape[0]"
   ],
   "metadata": {
    "collapsed": false,
    "pycharm": {
     "name": "#%%\n",
     "is_executing": false
    }
   }
  },
  {
   "cell_type": "code",
   "execution_count": 3,
   "outputs": [
    {
     "data": {
      "text/plain": "<Figure size 432x288 with 1 Axes>",
      "image/png": "[encoded data removed]"
     },
     "metadata": {
      "needs_background": "light"
     },
     "output_type": "display_data"
    }
   ],
   "source": [
    "plt.hist(y_dev)\n",
    "plt.show()"
   ],
   "metadata": {
    "collapsed": false,
    "pycharm": {
     "name": "#%%\n",
     "is_executing": false
    }
   }
  },
  {
   "cell_type": "code",
   "execution_count": 4,
   "outputs": [],
   "source": [
    "def preprocess_text(text):\n",
    "    text = text.lower()\n",
    "    text = re.sub('((www\\.[^\\s]+)|(https?://[^\\s]+))', 'url', text) # remove URLs\n",
    "    text = re.sub(r\"(^[a-zA-Z0-9_.+-]+@[a-zA-Z0-9-]+\\.[a-zA-Z0-9-.]+$)\", \"email\", text) # remove email\n",
    "    text = re.sub(r'@([^\\s]+)', r'\\1', text) # remove eventually @<word>\n",
    "    text = re.sub(r'#([^\\s]+)', r'\\1', text) # remove eventually hashtag \n",
    "    text = re.sub(r'[#@]', \" \", text) # remove eventually isolated @#\n",
    "    text = re.sub(\"'\", \"' \", text)  #insert a space in every word with the <'> in order to be catched by tokenizer and filtered\n",
    "    text = re.sub(r\"([.]*)([0-9]+)([.]*)\", r\"\\0 \\1\", text) # i.e ciao123come20va -> ciao come va\n",
    "    text = re.sub(\"([*.\\-/+])\", \" \", text) # remove special characters from words of kind \"..<word>\" \"***\" \"-<word>\" \"..<word>\"\n",
    "    return text\n",
    "\n",
    "class LemmaTokenizer(object):\n",
    "    def __init__(self):\n",
    "        self.stemmer = ItalianStemmer()\n",
    "    \n",
    "    def __call__(self, text):\n",
    "        lemmas = []\n",
    "        regex = re.compile(\"[0-9]+\")\n",
    "        stopwords = sw.words('italian') + ['quantum', \"url\", \"email\", 'sempre', 'avra', 'avro', 'fara', 'faro', 'perche', 'sara', 'saro', 'stara', 'staro']\n",
    "        text = preprocess_text(text)\n",
    "        for t in word_tokenize(text):\n",
    "            t = t.strip()\n",
    "            if t not in string.punctuation and 3 < len(t) < 16 and not regex.match(t) and t not in stopwords:\n",
    "                lemma = self.stemmer.stem(t)\n",
    "                lemmas.append(lemma)\n",
    "        return lemmas\n",
    "    "
   ],
   "metadata": {
    "collapsed": false,
    "pycharm": {
     "name": "#%%\n",
     "is_executing": false
    }
   }
  },
  {
   "cell_type": "code",
   "execution_count": 5,
   "outputs": [],
   "source": [
    "X_train, X_test, y_train, y_test = train_test_split(X_dev, y_dev, shuffle=True, test_size=0.25)\n"
   ],
   "metadata": {
    "collapsed": false,
    "pycharm": {
     "name": "#%%\n",
     "is_executing": false
    }
   }
  },
  {
   "cell_type": "code",
   "execution_count": 53,
   "outputs": [
    {
     "name": "stdout",
     "text": [
      "              precision    recall  f1-score   support\n",
      "\n",
      "           0       0.88      0.93      0.90      2185\n",
      "           1       0.97      0.95      0.96      5004\n",
      "\n",
      "    accuracy                           0.94      7189\n",
      "   macro avg       0.93      0.94      0.93      7189\n",
      "weighted avg       0.94      0.94      0.94      7189\n",
      "\n",
      "[[2023  162]\n",
      " [ 266 4738]]\n",
      "0.9567851373182552\n"
     ],
     "output_type": "stream"
    }
   ],
   "source": [
    "from sklearn.decomposition import TruncatedSVD\n",
    "pipeline = Pipeline([\n",
    "    ('bow',CountVectorizer(input='content', min_df=10, tokenizer=LemmaTokenizer(), ngram_range=(2,2))),\n",
    "    ('tfidf', TfidfTransformer()),\n",
    "    ('classifier', LogisticRegression(C=10, max_iter=180, n_jobs=8)),\n",
    "])\n",
    "\n",
    "pipeline.fit(X_train, y_train)\n",
    "y_predict = pipeline.predict(X_test)\n",
    "print(classification_report(y_predict,y_test))\n",
    "print(confusion_matrix(y_predict,y_test))\n",
    "print(f1_score(y_predict,y_test))"
   ],
   "metadata": {
    "collapsed": false,
    "pycharm": {
     "name": "#%%\n",
     "is_executing": false
    }
   }
  },
  {
   "cell_type": "code",
   "execution_count": 52,
   "outputs": [
    {
     "data": {
      "text/plain": "0.7626348747011125"
     },
     "metadata": {},
     "output_type": "execute_result",
     "execution_count": 52
    }
   ],
   "source": [
    "from sklearn.decomposition import TruncatedSVD\n",
    "pipeline = Pipeline([\n",
    "    ('bow',CountVectorizer(input='content', min_df=10, tokenizer=LemmaTokenizer(), ngram_range=(2, 2))),\n",
    "    ('tfidf', TfidfTransformer()),\n",
    "    ('pca', TruncatedSVD(n_components=6941)),\n",
    "    ('classifier', LogisticRegression(C=10, max_iter=180, n_jobs=8)),\n",
    "])\n",
    "pipeline.fit(X_dev, y_dev)\n",
    "y_pred_ev = pipeline.predict(X_ev)\n",
    "pipeline['pca'].explained_variance_ratio_.sum()"
   ],
   "metadata": {
    "collapsed": false,
    "pycharm": {
     "name": "#%%\n",
     "is_executing": false
    }
   }
  },
  {
   "cell_type": "code",
   "execution_count": 51,
   "outputs": [
    {
     "data": {
      "text/plain": "0"
     },
     "metadata": {},
     "output_type": "execute_result",
     "execution_count": 51
    }
   ],
   "source": [
    "cum_variance = np.cumsum(pipeline['pca'].explained_variance_ratio_)\n",
    "ind = np.argmax(cum_variance > .8)\n",
    "ind"
   ],
   "metadata": {
    "collapsed": false,
    "pycharm": {
     "name": "#%%\n",
     "is_executing": false
    }
   }
  },
  {
   "cell_type": "code",
   "execution_count": 50,
   "outputs": [],
   "source": [
    "with open(\"datasets/sample_submission8.csv\", \"w\", encoding=\"utf8\") as sub:\n",
    "    sub.write(\"Id,Predicted\\n\")\n",
    "    for i, label in enumerate(ints_to_labels(y_pred_ev)):\n",
    "        sub.write(f\"{i},{label}\\n\")\n",
    " "
   ],
   "metadata": {
    "collapsed": false,
    "pycharm": {
     "name": "#%%\n",
     "is_executing": false
    }
   }
  }
 ],
 "metadata": {
  "kernelspec": {
   "display_name": "Python 3",
   "language": "python",
   "name": "python3"
  },
  "language_info": {
   "codemirror_mode": {
    "name": "ipython",
    "version": 2
   },
   "file_extension": ".py",
   "mimetype": "text/x-python",
   "name": "python",
   "nbconvert_exporter": "python",
   "pygments_lexer": "ipython2",
   "version": "2.7.6"
  },
  "pycharm": {
   "stem_cell": {
    "cell_type": "raw",
    "source": [],
    "metadata": {
     "collapsed": false
    }
   }
  }
 },
 "nbformat": 4,
 "nbformat_minor": 0
}