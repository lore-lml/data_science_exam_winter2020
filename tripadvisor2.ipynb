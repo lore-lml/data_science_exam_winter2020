{
 "cells": [
  {
   "cell_type": "markdown",
   "source": [
    "#Functions to read devset and evalset and labels conversion"
   ],
   "metadata": {
    "collapsed": false,
    "pycharm": {
     "name": "#%% md\n"
    }
   }
  },
  {
   "cell_type": "code",
   "execution_count": 1,
   "outputs": [],
   "source": [
    "import csv\n",
    "import numpy as np\n",
    "\n",
    "def read_devset():\n",
    "    X = []\n",
    "    y = []\n",
    "    with open(\"datasets/development.csv\", encoding=\"utf8\") as dev_set:\n",
    "        reader = csv.reader(dev_set)\n",
    "        next(reader)\n",
    "        for row in reader:\n",
    "            X.append(row[0])\n",
    "            y.append(row[1])\n",
    "    \n",
    "    return X, labels_to_ints(y)\n",
    "\n",
    "def read_evalset():\n",
    "    X = []\n",
    "    with open(\"datasets/evaluation.csv\", encoding=\"utf8\") as eval_set:\n",
    "        reader = csv.reader(eval_set)\n",
    "        next(reader)\n",
    "        for row in reader:\n",
    "            X.append(row[0])\n",
    "    \n",
    "    return X\n",
    "def labels_to_ints(labels):\n",
    "    return np.array(list(map(lambda x : 1 if x == \"pos\" else 0, labels)))\n",
    "\n",
    "def ints_to_labels(labels):\n",
    "    return list(map(lambda x : \"pos\" if x == 1 else \"neg\", labels))\n"
   ],
   "metadata": {
    "collapsed": false,
    "pycharm": {
     "name": "#%%\n",
     "is_executing": false
    }
   }
  },
  {
   "cell_type": "code",
   "execution_count": 2,
   "outputs": [
    {
     "data": {
      "text/plain": "41077"
     },
     "metadata": {},
     "output_type": "execute_result",
     "execution_count": 2
    }
   ],
   "source": [
    "X, y = read_devset()\n",
    "X_ev = read_evalset()\n",
    "len(X) + len(X_ev)"
   ],
   "metadata": {
    "collapsed": false,
    "pycharm": {
     "name": "#%%\n",
     "is_executing": false
    }
   }
  },
  {
   "cell_type": "code",
   "execution_count": 3,
   "outputs": [],
   "source": [
    "from sklearn.model_selection import train_test_split\n",
    "X_train, X_test, y_train, y_test = train_test_split(X,y, shuffle=True)"
   ],
   "metadata": {
    "collapsed": false,
    "pycharm": {
     "name": "#%%\n",
     "is_executing": false
    }
   }
  },
  {
   "cell_type": "code",
   "execution_count": 4,
   "outputs": [],
   "source": [
    "from nltk.tokenize import word_tokenize\n",
    "from nltk.stem.wordnet import WordNetLemmatizer\n",
    "import string\n",
    "import re\n",
    "\n",
    "def preprocess_word(text):\n",
    "    text = text.lower()\n",
    "    text = re.sub('((www\\.[^\\s]+)|(https?://[^\\s]+))', 'url', text) # remove URLs\n",
    "    text = re.sub(r\"(^[a-zA-Z0-9_.+-]+@[a-zA-Z0-9-]+\\.[a-zA-Z0-9-.]+$)\", \"email\", text)\n",
    "    text = re.sub('@[^\\s]+', 'at_user', text) # remove usernames\n",
    "    text = re.sub(r'#([^\\s]+)', r'\\1', text) # remove the # in #hashtag\n",
    "    text = re.sub(\"'\", \"' \", text)\n",
    "    return text\n",
    "\n",
    "class LemmaTokenizer(object):\n",
    "    def __init__(self):\n",
    "        self.lemmatizer = WordNetLemmatizer()\n",
    "    \n",
    "    def __call__(self, text):\n",
    "        lemmas = []\n",
    "        regex = re.compile(\"[0-9]+\")\n",
    "        \n",
    "        text = preprocess_word(text)\n",
    "        for t in word_tokenize(text):\n",
    "            t = t.strip()\n",
    "            lemma = self.lemmatizer.lemmatize(t)\n",
    "            if lemma not in string.punctuation and 3 < len(lemma) < 16 and not regex.match(lemma) and \"@\" not in lemma and \"#\" not in lemma:\n",
    "                lemmas.append(lemma)\n",
    "        return lemmas\n"
   ],
   "metadata": {
    "collapsed": false,
    "pycharm": {
     "name": "#%%\n",
     "is_executing": false
    }
   }
  },
  {
   "cell_type": "code",
   "execution_count": 5,
   "outputs": [],
   "source": [
    "from sklearn.model_selection import ParameterGrid\n",
    "from nltk.corpus import stopwords as sw\n",
    "lemmaTokenizer = LemmaTokenizer()\n",
    "stopwords = sw.words('italian') + ['quantum', \"url\", \"at_user\", \"email\"]\n",
    "params = {\n",
    "    \"input\": [\"content\"],\n",
    "    \"tokenizer\": [lemmaTokenizer],\n",
    "    \"stop_words\": [stopwords],\n",
    "    \"binary\": [True],\n",
    "    \"min_df\": [3, 5],\n",
    "    \"ngram_range\": [(1,1), (1,2), (2,2)]\n",
    "}\n",
    "configs = ParameterGrid(params)"
   ],
   "metadata": {
    "collapsed": false,
    "pycharm": {
     "name": "#%%\n",
     "is_executing": false
    }
   }
  },
  {
   "cell_type": "code",
   "execution_count": 6,
   "outputs": [
    {
     "name": "stdout",
     "text": [
      "CountVectorizer(analyzer='word', binary=True, decode_error='strict',\n",
      "                dtype=<class 'numpy.int64'>, encoding='utf-8', input='content',\n",
      "                lowercase=True, max_df=1.0, max_features=None, min_df=3,\n",
      "                ngram_range=(1, 1), preprocessor=None,\n",
      "                stop_words=['ad', 'al', 'allo', 'ai', 'agli', 'all', 'agl',\n",
      "                            'alla', 'alle', 'con', 'col', 'coi', 'da', 'dal',\n",
      "                            'dallo', 'dai', 'dagli', 'dall', 'dagl', 'dalla',\n",
      "                            'dalle', 'di', 'del', 'dello', 'dei', 'degli',\n",
      "                            'dell', 'degl', 'della', 'delle', ...],\n",
      "                strip_accents=None, token_pattern='(?u)\\\\b\\\\w\\\\w+\\\\b',\n",
      "                tokenizer=<__main__.LemmaTokenizer object at 0x000002CE368BC148>,\n",
      "                vocabulary=None)\n",
      "CountVectorizer(analyzer='word', binary=True, decode_error='strict',\n",
      "                dtype=<class 'numpy.int64'>, encoding='utf-8', input='content',\n",
      "                lowercase=True, max_df=1.0, max_features=None, min_df=3,\n",
      "                ngram_range=(1, 2), preprocessor=None,\n",
      "                stop_words=['ad', 'al', 'allo', 'ai', 'agli', 'all', 'agl',\n",
      "                            'alla', 'alle', 'con', 'col', 'coi', 'da', 'dal',\n",
      "                            'dallo', 'dai', 'dagli', 'dall', 'dagl', 'dalla',\n",
      "                            'dalle', 'di', 'del', 'dello', 'dei', 'degli',\n",
      "                            'dell', 'degl', 'della', 'delle', ...],\n",
      "                strip_accents=None, token_pattern='(?u)\\\\b\\\\w\\\\w+\\\\b',\n",
      "                tokenizer=<__main__.LemmaTokenizer object at 0x000002CE368BC148>,\n",
      "                vocabulary=None)\n",
      "CountVectorizer(analyzer='word', binary=True, decode_error='strict',\n",
      "                dtype=<class 'numpy.int64'>, encoding='utf-8', input='content',\n",
      "                lowercase=True, max_df=1.0, max_features=None, min_df=3,\n",
      "                ngram_range=(2, 2), preprocessor=None,\n",
      "                stop_words=['ad', 'al', 'allo', 'ai', 'agli', 'all', 'agl',\n",
      "                            'alla', 'alle', 'con', 'col', 'coi', 'da', 'dal',\n",
      "                            'dallo', 'dai', 'dagli', 'dall', 'dagl', 'dalla',\n",
      "                            'dalle', 'di', 'del', 'dello', 'dei', 'degli',\n",
      "                            'dell', 'degl', 'della', 'delle', ...],\n",
      "                strip_accents=None, token_pattern='(?u)\\\\b\\\\w\\\\w+\\\\b',\n",
      "                tokenizer=<__main__.LemmaTokenizer object at 0x000002CE368BC148>,\n",
      "                vocabulary=None)\n",
      "CountVectorizer(analyzer='word', binary=True, decode_error='strict',\n",
      "                dtype=<class 'numpy.int64'>, encoding='utf-8', input='content',\n",
      "                lowercase=True, max_df=1.0, max_features=None, min_df=5,\n",
      "                ngram_range=(1, 1), preprocessor=None,\n",
      "                stop_words=['ad', 'al', 'allo', 'ai', 'agli', 'all', 'agl',\n",
      "                            'alla', 'alle', 'con', 'col', 'coi', 'da', 'dal',\n",
      "                            'dallo', 'dai', 'dagli', 'dall', 'dagl', 'dalla',\n",
      "                            'dalle', 'di', 'del', 'dello', 'dei', 'degli',\n",
      "                            'dell', 'degl', 'della', 'delle', ...],\n",
      "                strip_accents=None, token_pattern='(?u)\\\\b\\\\w\\\\w+\\\\b',\n",
      "                tokenizer=<__main__.LemmaTokenizer object at 0x000002CE368BC148>,\n",
      "                vocabulary=None)\n",
      "CountVectorizer(analyzer='word', binary=True, decode_error='strict',\n",
      "                dtype=<class 'numpy.int64'>, encoding='utf-8', input='content',\n",
      "                lowercase=True, max_df=1.0, max_features=None, min_df=5,\n",
      "                ngram_range=(1, 2), preprocessor=None,\n",
      "                stop_words=['ad', 'al', 'allo', 'ai', 'agli', 'all', 'agl',\n",
      "                            'alla', 'alle', 'con', 'col', 'coi', 'da', 'dal',\n",
      "                            'dallo', 'dai', 'dagli', 'dall', 'dagl', 'dalla',\n",
      "                            'dalle', 'di', 'del', 'dello', 'dei', 'degli',\n",
      "                            'dell', 'degl', 'della', 'delle', ...],\n",
      "                strip_accents=None, token_pattern='(?u)\\\\b\\\\w\\\\w+\\\\b',\n",
      "                tokenizer=<__main__.LemmaTokenizer object at 0x000002CE368BC148>,\n",
      "                vocabulary=None)\n",
      "CountVectorizer(analyzer='word', binary=True, decode_error='strict',\n",
      "                dtype=<class 'numpy.int64'>, encoding='utf-8', input='content',\n",
      "                lowercase=True, max_df=1.0, max_features=None, min_df=5,\n",
      "                ngram_range=(2, 2), preprocessor=None,\n",
      "                stop_words=['ad', 'al', 'allo', 'ai', 'agli', 'all', 'agl',\n",
      "                            'alla', 'alle', 'con', 'col', 'coi', 'da', 'dal',\n",
      "                            'dallo', 'dai', 'dagli', 'dall', 'dagl', 'dalla',\n",
      "                            'dalle', 'di', 'del', 'dello', 'dei', 'degli',\n",
      "                            'dell', 'degl', 'della', 'delle', ...],\n",
      "                strip_accents=None, token_pattern='(?u)\\\\b\\\\w\\\\w+\\\\b',\n",
      "                tokenizer=<__main__.LemmaTokenizer object at 0x000002CE368BC148>,\n",
      "                vocabulary=None)\n"
     ],
     "output_type": "stream"
    }
   ],
   "source": [
    "from sklearn.feature_extraction.text import CountVectorizer\n",
    "vectorizers = []\n",
    "X_train_sets = []\n",
    "X_test_sets = []\n",
    "for conf in configs:\n",
    "    vectorizer = CountVectorizer(**conf)\n",
    "    X_train_sets.append(vectorizer.fit_transform(X_train, y_train))\n",
    "    X_test_sets.append(vectorizer.transform(X_test))\n",
    "    vectorizers.append(vectorizer)\n",
    "    print(vectorizer)"
   ],
   "metadata": {
    "collapsed": false,
    "pycharm": {
     "name": "#%%\n",
     "is_executing": false
    }
   }
  },
  {
   "cell_type": "code",
   "execution_count": 9,
   "outputs": [
    {
     "name": "stdout",
     "text": [
      "(1, 1): 18017\n",
      "(1, 2): 80855\n",
      "(2, 2): 62838\n",
      "(1, 1): 13019\n",
      "(1, 2): 42972\n",
      "(2, 2): 29953\n"
     ],
     "output_type": "stream"
    }
   ],
   "source": [
    "for conf, vec in zip(configs, vectorizers):\n",
    "    print(f\"{conf['ngram_range']}: {len(vec.vocabulary_)}\")\n",
    "    "
   ],
   "metadata": {
    "collapsed": false,
    "pycharm": {
     "name": "#%%\n",
     "is_executing": false
    }
   }
  },
  {
   "cell_type": "code",
   "execution_count": 14,
   "outputs": [
    {
     "name": "stdout",
     "text": [
      "Vocabulary size: 18017\n",
      "X_train:\n",
      "<21565x18017 sparse matrix of type '<class 'numpy.int64'>'\n",
      "\twith 1110443 stored elements in Compressed Sparse Row format>\n",
      "X_test: \n",
      "<7189x18017 sparse matrix of type '<class 'numpy.int64'>'\n",
      "\twith 373223 stored elements in Compressed Sparse Row format>\n",
      "Vocabulary size: 80855\n",
      "X_train:\n",
      "<21565x80855 sparse matrix of type '<class 'numpy.int64'>'\n",
      "\twith 1700099 stored elements in Compressed Sparse Row format>\n",
      "X_test: \n",
      "<7189x80855 sparse matrix of type '<class 'numpy.int64'>'\n",
      "\twith 548442 stored elements in Compressed Sparse Row format>\n",
      "Vocabulary size: 62838\n",
      "X_train:\n",
      "<21565x62838 sparse matrix of type '<class 'numpy.int64'>'\n",
      "\twith 589656 stored elements in Compressed Sparse Row format>\n",
      "X_test: \n",
      "<7189x62838 sparse matrix of type '<class 'numpy.int64'>'\n",
      "\twith 175219 stored elements in Compressed Sparse Row format>\n",
      "Vocabulary size: 13019\n",
      "X_train:\n",
      "<21565x13019 sparse matrix of type '<class 'numpy.int64'>'\n",
      "\twith 1093535 stored elements in Compressed Sparse Row format>\n",
      "X_test: \n",
      "<7189x13019 sparse matrix of type '<class 'numpy.int64'>'\n",
      "\twith 368163 stored elements in Compressed Sparse Row format>\n",
      "Vocabulary size: 42972\n",
      "X_train:\n",
      "<21565x42972 sparse matrix of type '<class 'numpy.int64'>'\n",
      "\twith 1573400 stored elements in Compressed Sparse Row format>\n",
      "X_test: \n",
      "<7189x42972 sparse matrix of type '<class 'numpy.int64'>'\n",
      "\twith 517595 stored elements in Compressed Sparse Row format>\n",
      "Vocabulary size: 29953\n",
      "X_train:\n",
      "<21565x29953 sparse matrix of type '<class 'numpy.int64'>'\n",
      "\twith 479865 stored elements in Compressed Sparse Row format>\n",
      "X_test: \n",
      "<7189x29953 sparse matrix of type '<class 'numpy.int64'>'\n",
      "\twith 149432 stored elements in Compressed Sparse Row format>\n"
     ],
     "output_type": "stream"
    }
   ],
   "source": [
    "for vec, train, test in zip(vectorizers,X_train_sets, X_test_sets):\n",
    "    print(\"Vocabulary size: {}\".format(len(vec.vocabulary_)))\n",
    "    print(\"X_train:\\n{}\".format(repr(train)))\n",
    "    print(\"X_test: \\n{}\".format(repr(test)))\n",
    "    "
   ],
   "metadata": {
    "collapsed": false,
    "pycharm": {
     "name": "#%%\n",
     "is_executing": false
    }
   }
  },
  {
   "cell_type": "code",
   "execution_count": 17,
   "outputs": [
    {
     "data": {
      "text/plain": "'print(\"Best cross-validation score: {:.2f}\".format(grid.best_score_))\\nprint(\"Best parameters: \", grid.best_params_)\\nprint(\"Best estimator: \", grid.best_estimator_)'"
     },
     "metadata": {},
     "output_type": "execute_result",
     "execution_count": 17
    }
   ],
   "source": [
    "from sklearn.model_selection import GridSearchCV\n",
    "from sklearn.linear_model import LogisticRegression\n",
    "\n",
    "grids = []\n",
    "param_grid = {'C': [0.001, 0.01, 0.1, 1], 'max_iter': [1000]}\n",
    "for train, vec in zip(X_train_sets, vectorizers):\n",
    "    grid = GridSearchCV(LogisticRegression(), param_grid, cv=5, scoring='f1')\n",
    "    grid.fit(train, y_train)\n",
    "    grids.append(grid)\n",
    "    "
   ],
   "metadata": {
    "collapsed": false,
    "pycharm": {
     "name": "#%%\n",
     "is_executing": false
    }
   }
  },
  {
   "cell_type": "code",
   "execution_count": 20,
   "outputs": [
    {
     "name": "stdout",
     "text": [
      "Best f1 score: 0.9675635362400158\n",
      "Best parameters: {'C': 1, 'max_iter': 1000}\n",
      "Best estimator: LogisticRegression(C=1, class_weight=None, dual=False, fit_intercept=True,\n",
      "                   intercept_scaling=1, l1_ratio=None, max_iter=1000,\n",
      "                   multi_class='auto', n_jobs=None, penalty='l2',\n",
      "                   random_state=None, solver='lbfgs', tol=0.0001, verbose=0,\n",
      "                   warm_start=False)\n"
     ],
     "output_type": "stream"
    }
   ],
   "source": [
    "scores = list(map(lambda x: x.best_score_, grids))\n",
    "print(f\"Best f1 score: {np.max(scores)}\")\n",
    "best_params = grids[int(np.argmax(scores))].best_params_\n",
    "print(f\"Best parameters: {best_params}\")\n",
    "best_estimator = grids[int(np.argmax(scores))].best_estimator_\n",
    "print(f\"Best estimator: {best_estimator}\")\n",
    "best_vectorizer_params = vectorizers[int(np.argmax(scores))].get_params()"
   ],
   "metadata": {
    "collapsed": false,
    "pycharm": {
     "name": "#%%\n",
     "is_executing": false
    }
   }
  },
  {
   "cell_type": "markdown",
   "source": [
    "FINAL TRAIN"
   ],
   "metadata": {
    "collapsed": false,
    "pycharm": {
     "name": "#%% md\n",
     "is_executing": false
    }
   }
  },
  {
   "cell_type": "code",
   "execution_count": 21,
   "outputs": [],
   "source": [
    "vectorizer = CountVectorizer(**best_vectorizer_params)\n",
    "X_count_train = vectorizer.fit_transform(X, y)\n",
    "X_count_test = vectorizer.transform(X_ev)\n",
    "\n",
    "clf = LogisticRegression(**best_params)\n",
    "clf.fit(X_count_train, y)\n",
    "y_pred = clf.predict(X_count_test)\n"
   ],
   "metadata": {
    "collapsed": false,
    "pycharm": {
     "name": "#%%\n",
     "is_executing": false
    }
   }
  },
  {
   "cell_type": "code",
   "execution_count": 22,
   "outputs": [],
   "source": [
    "with open(\"datasets/sample_submission2.csv\", \"w\", encoding=\"utf8\") as sub:\n",
    "    sub.write(\"Id,Predicted\\n\")\n",
    "    for i, label in enumerate(ints_to_labels(y_pred)):\n",
    "        sub.write(f\"{i},{label}\\n\")"
   ],
   "metadata": {
    "collapsed": false,
    "pycharm": {
     "name": "#%%\n",
     "is_executing": false
    }
   }
  }
 ],
 "metadata": {
  "kernelspec": {
   "display_name": "Python 3",
   "language": "python",
   "name": "python3"
  },
  "language_info": {
   "codemirror_mode": {
    "name": "ipython",
    "version": 2
   },
   "file_extension": ".py",
   "mimetype": "text/x-python",
   "name": "python",
   "nbconvert_exporter": "python",
   "pygments_lexer": "ipython2",
   "version": "2.7.6"
  },
  "pycharm": {
   "stem_cell": {
    "cell_type": "raw",
    "source": [],
    "metadata": {
     "collapsed": false
    }
   }
  }
 },
 "nbformat": 4,
 "nbformat_minor": 0
}