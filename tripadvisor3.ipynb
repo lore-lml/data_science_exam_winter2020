{
 "cells": [
  {
   "cell_type": "markdown",
   "source": [
    "#Functions to read devset and evalset and labels conversion"
   ],
   "metadata": {
    "collapsed": false,
    "pycharm": {
     "name": "#%% md\n"
    }
   }
  },
  {
   "cell_type": "code",
   "execution_count": 71,
   "outputs": [],
   "source": [
    "import csv\n",
    "import numpy as np\n",
    "\n",
    "def read_devset():\n",
    "    X = []\n",
    "    y = []\n",
    "    with open(\"datasets/development.csv\", encoding=\"utf8\") as dev_set:\n",
    "        reader = csv.reader(dev_set)\n",
    "        next(reader)\n",
    "        for row in reader:\n",
    "            X.append(row[0])\n",
    "            y.append(row[1])\n",
    "    \n",
    "    return X, labels_to_ints(y)\n",
    "\n",
    "def read_evalset():\n",
    "    X = []\n",
    "    with open(\"datasets/evaluation.csv\", encoding=\"utf8\") as eval_set:\n",
    "        reader = csv.reader(eval_set)\n",
    "        next(reader)\n",
    "        for row in reader:\n",
    "            X.append(row[0])\n",
    "    \n",
    "    return X\n",
    "def labels_to_ints(labels):\n",
    "    return np.array(list(map(lambda x : 1 if x == \"pos\" else 0, labels)))\n",
    "\n",
    "def ints_to_labels(labels):\n",
    "    return list(map(lambda x : \"pos\" if x == 1 else \"neg\", labels))\n"
   ],
   "metadata": {
    "collapsed": false,
    "pycharm": {
     "name": "#%%\n",
     "is_executing": false
    }
   }
  },
  {
   "cell_type": "code",
   "execution_count": 72,
   "outputs": [
    {
     "data": {
      "text/plain": "41077"
     },
     "metadata": {},
     "output_type": "execute_result",
     "execution_count": 72
    }
   ],
   "source": [
    "X, y = read_devset()\n",
    "X_ev = read_evalset()\n",
    "len(X) + len(X_ev)"
   ],
   "metadata": {
    "collapsed": false,
    "pycharm": {
     "name": "#%%\n",
     "is_executing": false
    }
   }
  },
  {
   "cell_type": "code",
   "execution_count": 73,
   "outputs": [],
   "source": [
    "from sklearn.model_selection import train_test_split\n",
    "X_train, X_test, y_train, y_test = train_test_split(X,y, shuffle=True)"
   ],
   "metadata": {
    "collapsed": false,
    "pycharm": {
     "name": "#%%\n",
     "is_executing": false
    }
   }
  },
  {
   "cell_type": "code",
   "execution_count": 74,
   "outputs": [],
   "source": [
    "from nltk.tokenize import word_tokenize\n",
    "from nltk.stem.wordnet import WordNetLemmatizer\n",
    "import string\n",
    "import re\n",
    "\n",
    "def preprocess_word(text):\n",
    "    text = text.lower()\n",
    "    text = re.sub('((www\\.[^\\s]+)|(https?://[^\\s]+))', 'url', text) # remove URLs\n",
    "    text = re.sub(r\"(^[a-zA-Z0-9_.+-]+@[a-zA-Z0-9-]+\\.[a-zA-Z0-9-.]+$)\", \"email\", text) # remove email\n",
    "    text = re.sub('@[^\\s]+', 'at', text) # remove eventually @<word>\n",
    "    text = re.sub(r'#([^\\s]+)', r'\\1', text) # remove eventually hashtag \n",
    "    text = re.sub(r'[#@]', \" \", text) # remove eventually isolated @#\n",
    "    text = re.sub(\"'\", \"' \", text)  #insert a space in every word with the <'> in order to be catched by tokenizer and filtered\n",
    "    text = re.sub(r\"([.]*)([0-9]+)([.]*)\", r\"\\0 \\1\", text) # i.e ciao123come20va -> ciao come va\n",
    "    text = re.sub(\"([*.\\-/])\", \" \", text) # remove special characters from words of kind \"..<word>\" \"***\" \"-<word>\" \"..<word>\"\n",
    "    return text\n",
    "\n",
    "class LemmaTokenizer(object):\n",
    "    def __init__(self):\n",
    "        self.lemmatizer = WordNetLemmatizer()\n",
    "    \n",
    "    def __call__(self, text):\n",
    "        lemmas = []\n",
    "        regex = re.compile(\"[0-9]+\")\n",
    "        \n",
    "        text = preprocess_word(text)\n",
    "        for t in word_tokenize(text):\n",
    "            t = t.strip()\n",
    "            lemma = self.lemmatizer.lemmatize(t)\n",
    "            if lemma not in string.punctuation and 3 < len(lemma) < 16 and not regex.match(lemma):\n",
    "                lemmas.append(lemma)\n",
    "        return lemmas\n"
   ],
   "metadata": {
    "collapsed": false,
    "pycharm": {
     "name": "#%%\n",
     "is_executing": false
    }
   }
  },
  {
   "cell_type": "code",
   "execution_count": 75,
   "outputs": [],
   "source": [
    "from sklearn.model_selection import ParameterGrid\n",
    "from nltk.corpus import stopwords as sw\n",
    "lemmaTokenizer = LemmaTokenizer()\n",
    "stopwords = sw.words('italian') + ['quantum', \"url\", \"at\", \"email\"]\n",
    "params = {\n",
    "    \"input\": [\"content\"],\n",
    "    \"tokenizer\": [lemmaTokenizer],\n",
    "    \"stop_words\": [stopwords],\n",
    "    \"binary\": [True],\n",
    "    \"min_df\": [1, 2, 3],\n",
    "    \"ngram_range\": [(1,1), (1,2), (2,2)]\n",
    "}\n",
    "configs = ParameterGrid(params)"
   ],
   "metadata": {
    "collapsed": false,
    "pycharm": {
     "name": "#%%\n",
     "is_executing": false
    }
   }
  },
  {
   "cell_type": "code",
   "execution_count": 76,
   "outputs": [],
   "source": [
    "from sklearn.feature_extraction.text import CountVectorizer\n",
    "vectorizers = []\n",
    "X_train_sets = []\n",
    "X_test_sets = []\n",
    "for conf in configs:\n",
    "    vectorizer = CountVectorizer(**conf)\n",
    "    X_train_sets.append(vectorizer.fit_transform(X_train, y_train))\n",
    "    X_test_sets.append(vectorizer.transform(X_test))\n",
    "    vectorizers.append(vectorizer)"
   ],
   "metadata": {
    "collapsed": false,
    "pycharm": {
     "name": "#%%\n",
     "is_executing": false
    }
   }
  },
  {
   "cell_type": "code",
   "execution_count": 77,
   "outputs": [
    {
     "name": "stdout",
     "text": [
      "(1, 1): 44660\n",
      "(1, 2): 712046\n",
      "(2, 2): 667386\n",
      "(1, 1): 23586\n",
      "(1, 2): 149575\n",
      "(2, 2): 125989\n",
      "(1, 1): 17927\n",
      "(1, 2): 81682\n",
      "(2, 2): 63755\n"
     ],
     "output_type": "stream"
    }
   ],
   "source": [
    "for conf, vec in zip(configs, vectorizers):\n",
    "    print(f\"{conf['ngram_range']}: {len(vec.vocabulary_)}\")\n",
    "    "
   ],
   "metadata": {
    "collapsed": false,
    "pycharm": {
     "name": "#%%\n",
     "is_executing": false
    }
   }
  },
  {
   "cell_type": "code",
   "execution_count": 78,
   "outputs": [
    {
     "name": "stdout",
     "text": [
      "Vocabulary size: 44660\n",
      "X_train:\n",
      "<21565x44660 sparse matrix of type '<class 'numpy.int64'>'\n",
      "\twith 1154799 stored elements in Compressed Sparse Row format>\n",
      "X_test: \n",
      "<7189x44660 sparse matrix of type '<class 'numpy.int64'>'\n",
      "\twith 378470 stored elements in Compressed Sparse Row format>\n",
      "Vocabulary size: 712046\n",
      "X_train:\n",
      "<21565x712046 sparse matrix of type '<class 'numpy.int64'>'\n",
      "\twith 2420455 stored elements in Compressed Sparse Row format>\n",
      "X_test: \n",
      "<7189x712046 sparse matrix of type '<class 'numpy.int64'>'\n",
      "\twith 620932 stored elements in Compressed Sparse Row format>\n",
      "Vocabulary size: 667386\n",
      "X_train:\n",
      "<21565x667386 sparse matrix of type '<class 'numpy.int64'>'\n",
      "\twith 1265656 stored elements in Compressed Sparse Row format>\n",
      "X_test: \n",
      "<7189x667386 sparse matrix of type '<class 'numpy.int64'>'\n",
      "\twith 242462 stored elements in Compressed Sparse Row format>\n",
      "Vocabulary size: 23586\n",
      "X_train:\n",
      "<21565x23586 sparse matrix of type '<class 'numpy.int64'>'\n",
      "\twith 1133725 stored elements in Compressed Sparse Row format>\n",
      "X_test: \n",
      "<7189x23586 sparse matrix of type '<class 'numpy.int64'>'\n",
      "\twith 374650 stored elements in Compressed Sparse Row format>\n",
      "Vocabulary size: 149575\n",
      "X_train:\n",
      "<21565x149575 sparse matrix of type '<class 'numpy.int64'>'\n",
      "\twith 1857984 stored elements in Compressed Sparse Row format>\n",
      "X_test: \n",
      "<7189x149575 sparse matrix of type '<class 'numpy.int64'>'\n",
      "\twith 575468 stored elements in Compressed Sparse Row format>\n",
      "Vocabulary size: 125989\n",
      "X_train:\n",
      "<21565x125989 sparse matrix of type '<class 'numpy.int64'>'\n",
      "\twith 724259 stored elements in Compressed Sparse Row format>\n",
      "X_test: \n",
      "<7189x125989 sparse matrix of type '<class 'numpy.int64'>'\n",
      "\twith 200818 stored elements in Compressed Sparse Row format>\n",
      "Vocabulary size: 17927\n",
      "X_train:\n",
      "<21565x17927 sparse matrix of type '<class 'numpy.int64'>'\n",
      "\twith 1122407 stored elements in Compressed Sparse Row format>\n",
      "X_test: \n",
      "<7189x17927 sparse matrix of type '<class 'numpy.int64'>'\n",
      "\twith 371691 stored elements in Compressed Sparse Row format>\n",
      "Vocabulary size: 81682\n",
      "X_train:\n",
      "<21565x81682 sparse matrix of type '<class 'numpy.int64'>'\n",
      "\twith 1722198 stored elements in Compressed Sparse Row format>\n",
      "X_test: \n",
      "<7189x81682 sparse matrix of type '<class 'numpy.int64'>'\n",
      "\twith 550172 stored elements in Compressed Sparse Row format>\n",
      "Vocabulary size: 63755\n",
      "X_train:\n",
      "<21565x63755 sparse matrix of type '<class 'numpy.int64'>'\n",
      "\twith 599791 stored elements in Compressed Sparse Row format>\n",
      "X_test: \n",
      "<7189x63755 sparse matrix of type '<class 'numpy.int64'>'\n",
      "\twith 178481 stored elements in Compressed Sparse Row format>\n"
     ],
     "output_type": "stream"
    }
   ],
   "source": [
    "for vec, train, test in zip(vectorizers,X_train_sets, X_test_sets):\n",
    "    print(\"Vocabulary size: {}\".format(len(vec.vocabulary_)))\n",
    "    print(\"X_train:\\n{}\".format(repr(train)))\n",
    "    print(\"X_test: \\n{}\".format(repr(test)))\n",
    "    "
   ],
   "metadata": {
    "collapsed": false,
    "pycharm": {
     "name": "#%%\n",
     "is_executing": false
    }
   }
  },
  {
   "cell_type": "code",
   "execution_count": 79,
   "outputs": [],
   "source": [
    "from sklearn.model_selection import GridSearchCV\n",
    "from sklearn.linear_model import LogisticRegression\n",
    "\n",
    "grids = []\n",
    "param_grid = {'C': [0.01, 0.1, 1, 10], 'max_iter': [200]}\n",
    "for train, vec in zip(X_train_sets, vectorizers):\n",
    "    grid = GridSearchCV(LogisticRegression(), param_grid, cv=5, scoring='f1')\n",
    "    grid.fit(train, y_train)\n",
    "    grids.append(grid)\n",
    "    "
   ],
   "metadata": {
    "collapsed": false,
    "pycharm": {
     "name": "#%%\n",
     "is_executing": false
    }
   }
  },
  {
   "cell_type": "code",
   "execution_count": 80,
   "outputs": [
    {
     "name": "stdout",
     "text": [
      "Best f1 score: 0.9688227146887367\n",
      "Best parameters: {'C': 1, 'max_iter': 200}\n",
      "Best estimator: LogisticRegression(C=1, class_weight=None, dual=False, fit_intercept=True,\n",
      "                   intercept_scaling=1, l1_ratio=None, max_iter=200,\n",
      "                   multi_class='auto', n_jobs=None, penalty='l2',\n",
      "                   random_state=None, solver='lbfgs', tol=0.0001, verbose=0,\n",
      "                   warm_start=False)\n"
     ],
     "output_type": "stream"
    }
   ],
   "source": [
    "scores = list(map(lambda x: x.best_score_, grids))\n",
    "print(f\"Best f1 score: {np.max(scores)}\")\n",
    "best_params = grids[int(np.argmax(scores))].best_params_\n",
    "print(f\"Best parameters: {best_params}\")\n",
    "best_estimator = grids[int(np.argmax(scores))].best_estimator_\n",
    "print(f\"Best estimator: {best_estimator}\")\n",
    "best_vectorizer_params = vectorizers[int(np.argmax(scores))].get_params()"
   ],
   "metadata": {
    "collapsed": false,
    "pycharm": {
     "name": "#%%\n",
     "is_executing": false
    }
   }
  },
  {
   "cell_type": "markdown",
   "source": [
    "FINAL TRAIN"
   ],
   "metadata": {
    "collapsed": false,
    "pycharm": {
     "name": "#%% md\n",
     "is_executing": false
    }
   }
  },
  {
   "cell_type": "code",
   "execution_count": 81,
   "outputs": [
    {
     "name": "stderr",
     "text": [
      "c:\\program files\\python37\\lib\\site-packages\\sklearn\\feature_extraction\\text.py:385: UserWarning: Your stop_words may be inconsistent with your preprocessing. Tokenizing the stop words generated tokens ['avra', 'avro', 'fara', 'faro', 'perche', 'sara', 'saro', 'stara', 'staro'] not in stop_words.\n",
      "  'stop_words.' % sorted(inconsistent))\n"
     ],
     "output_type": "stream"
    }
   ],
   "source": [
    "best_vectorizer_params['strip_accents'] = 'unicode' #Added now because of too much computational time need to find best params\n",
    "vectorizer = CountVectorizer(**best_vectorizer_params)\n",
    "X_count_train = vectorizer.fit_transform(X, y)\n",
    "X_count_test = vectorizer.transform(X_ev)\n",
    "\n",
    "clf = LogisticRegression(**best_params)\n",
    "clf.fit(X_count_train, y)\n",
    "y_pred = clf.predict(X_count_test)\n"
   ],
   "metadata": {
    "collapsed": false,
    "pycharm": {
     "name": "#%%\n",
     "is_executing": false
    }
   }
  },
  {
   "cell_type": "code",
   "execution_count": 82,
   "outputs": [],
   "source": [
    "with open(\"datasets/sample_submission3.csv\", \"w\", encoding=\"utf8\") as sub:\n",
    "    sub.write(\"Id,Predicted\\n\")\n",
    "    for i, label in enumerate(ints_to_labels(y_pred)):\n",
    "        sub.write(f\"{i},{label}\\n\")\n",
    "        \n"
   ],
   "metadata": {
    "collapsed": false,
    "pycharm": {
     "name": "#%%\n",
     "is_executing": false
    }
   }
  },
  {
   "cell_type": "code",
   "execution_count": 83,
   "outputs": [
    {
     "name": "stdout",
     "text": [
      "pervasi -> -1.6235575495479116e-09\n",
      "ancora bagno -> -2.3364043695831975e-09\n",
      "venezia rivelata -> -3.209096200218581e-09\n",
      "pancake colazione -> -4.8135505428284905e-09\n",
      "prelevamenti -> -6.79723861400133e-09\n",
      "bagno marito -> -8.767778018830704e-09\n",
      "illuminavano -> -1.1657707795309708e-08\n",
      "primo utilizzo -> -1.6828240357287504e-08\n",
      "mano doccia -> -2.1915432061536262e-08\n",
      "camere identiche -> -2.2428297596750818e-08\n",
      "avere fetta -> -2.4709969323760597e-08\n",
      "gita venezia -> -2.755426372583288e-08\n",
      "acqua vedi -> -2.802656808810258e-08\n",
      "minuti entrare -> -3.427620905539197e-08\n",
      "veramente sappiamo -> -3.4501935301296504e-08\n",
      "ascensori funzionano -> -3.5345051964663546e-08\n",
      "concierge leonardo -> -3.7659248997556644e-08\n",
      "mezzo comunque -> -3.782004725916649e-08\n",
      "favore dato -> -3.928050787968651e-08\n",
      "almeno sino -> -4.057865604695144e-08\n",
      "anniversario molto -> -4.2064781598391375e-08\n",
      "tariffe economiche -> -4.439855293251169e-08\n",
      "hotel compagnia -> -4.7059030258576766e-08\n",
      "vicino vetrata -> -4.7868046674947587e-08\n",
      "desiderare proprio -> -4.8795033188104334e-08\n",
      "disponibile trovarci -> -5.0240353758597045e-08\n",
      "locale piuttosto -> -5.388023657144927e-08\n",
      "cercarli -> -5.477215690777698e-08\n",
      "andare macchina -> -5.755838476006668e-08\n",
      "miramare torno -> -5.890134483527644e-08\n",
      "treni letteralmente -> -6.094495363336166e-08\n",
      "andati centro -> -6.098545987876373e-08\n",
      "iniziato controllare -> -6.430542684568065e-08\n",
      "marito settimana -> -6.686884910503571e-08\n",
      "caricatore -> -6.693374774767896e-08\n",
      "stanchi credo -> -6.868542654579331e-08\n",
      "dovrebbe soggiornare -> -6.953563239504599e-08\n",
      "dotate condizionatore -> -7.612522404410017e-08\n",
      "pacchetto notte -> -7.745294253664315e-08\n",
      "telefono diretto -> -7.903294828815964e-08\n",
      "inoltre capito -> -8.015746309509268e-08\n",
      "tocchetti -> -8.100181472525829e-08\n",
      "proporci -> -8.103350766272829e-08\n",
      "barche ormeggiate -> -8.480345033083116e-08\n",
      "ascugamani -> -8.569072719643432e-08\n",
      "meccanici -> -8.579920180268545e-08\n",
      "carrello formaggi -> -9.087535432327092e-08\n",
      "camera allegato -> -9.240822370152962e-08\n",
      "ascensore usata -> -1.0764941035589469e-07\n",
      "abbracci -> -1.0765040961390254e-07\n"
     ],
     "output_type": "stream"
    }
   ],
   "source": [
    "coefs = np.array(clf.coef_)\n",
    "coefs = coefs.reshape((coefs.shape[1],))\n",
    "\n",
    "features = vectorizer.get_feature_names()\n",
    "sorted_feat = [features[i] for i in coefs.argsort()[::-1]]\n",
    "i = 0\n",
    "for feat, coef in zip(sorted_feat, np.sort(coefs)[::-1]):\n",
    "    if coef > 0:\n",
    "        continue\n",
    "    print(f\"{feat} -> {coef}\")\n",
    "    i += 1\n",
    "    if i == 50:\n",
    "        break\n",
    "        "
   ],
   "metadata": {
    "collapsed": false,
    "pycharm": {
     "name": "#%%\n",
     "is_executing": false
    }
   }
  }
 ],
 "metadata": {
  "kernelspec": {
   "display_name": "Python 3",
   "language": "python",
   "name": "python3"
  },
  "language_info": {
   "codemirror_mode": {
    "name": "ipython",
    "version": 2
   },
   "file_extension": ".py",
   "mimetype": "text/x-python",
   "name": "python",
   "nbconvert_exporter": "python",
   "pygments_lexer": "ipython2",
   "version": "2.7.6"
  },
  "pycharm": {
   "stem_cell": {
    "cell_type": "raw",
    "source": [],
    "metadata": {
     "collapsed": false
    }
   }
  }
 },
 "nbformat": 4,
 "nbformat_minor": 0
}