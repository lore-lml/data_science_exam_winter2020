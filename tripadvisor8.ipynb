{
 "cells": [
  {
   "cell_type": "code",
   "execution_count": 15,
   "metadata": {
    "pycharm": {
     "is_executing": false,
     "name": "#%%\n"
    }
   },
   "outputs": [],
   "source": [
    "# Data Analysis\n",
    "import pandas as pd\n",
    "import matplotlib.pyplot as plt\n",
    "import seaborn as sns\n",
    "import numpy as np\n",
    "from sklearn.base import clone\n",
    "%matplotlib inline\n",
    "\n",
    "# Data Preprocessing and Feature Engineering\n",
    "import re\n",
    "import string\n",
    "from nltk.tokenize import word_tokenize\n",
    "from nltk.corpus import stopwords as sw\n",
    "from sklearn.feature_extraction.text import CountVectorizer, TfidfTransformer\n",
    "from nltk.stem.snowball import ItalianStemmer\n",
    "from sklearn.model_selection import ParameterGrid\n",
    "from sklearn.decomposition import TruncatedSVD\n",
    "\n",
    "#Model Selection and Validation\n",
    "from sklearn.linear_model import LogisticRegression\n",
    "from sklearn.model_selection import train_test_split\n",
    "from sklearn.pipeline import Pipeline\n",
    "from sklearn.metrics import confusion_matrix, classification_report, f1_score\n",
    "\n",
    "\n",
    "def labels_to_ints(labels):\n",
    "    return np.array(list(map(lambda x : 1 if x == \"pos\" else 0, labels)))\n",
    "\n",
    "def ints_to_labels(labels):\n",
    "    return list(map(lambda x : \"pos\" if x == 1 else \"neg\", labels))"
   ]
  },
  {
   "cell_type": "code",
   "execution_count": 16,
   "metadata": {
    "pycharm": {
     "is_executing": false,
     "name": "#%%\n"
    }
   },
   "outputs": [
    {
     "data": {
      "text/plain": [
       "41077"
      ]
     },
     "execution_count": 16,
     "metadata": {},
     "output_type": "execute_result"
    }
   ],
   "source": [
    "dev_df = pd.read_csv(\"datasets/development.csv\")\n",
    "X_dev = dev_df.loc[:, 'text']\n",
    "y_dev = labels_to_ints(dev_df.loc[:, 'class'])\n",
    "\n",
    "ev_df = pd.read_csv(\"datasets/evaluation.csv\")\n",
    "X_ev = ev_df.loc[:, 'text']\n",
    "\n",
    "X_dev.shape[0] + X_ev.shape[0]"
   ]
  },
  {
   "cell_type": "code",
   "execution_count": 17,
   "metadata": {
    "pycharm": {
     "is_executing": false,
     "name": "#%%\n"
    }
   },
   "outputs": [
    {
     "data": {
      "text/plain": [
       "<matplotlib.axes._subplots.AxesSubplot at 0x1fed893d748>"
      ]
     },
     "execution_count": 17,
     "metadata": {},
     "output_type": "execute_result"
    },
    {
     "data": {
      "image/png": "[encoded data removed]",
      "text/plain": [
       "<Figure size 432x288 with 1 Axes>"
      ]
     },
     "metadata": {
      "needs_background": "light"
     },
     "output_type": "display_data"
    }
   ],
   "source": [
    "sns.countplot(x= 'class',data = dev_df)\n"
   ]
  },
  {
   "cell_type": "code",
   "execution_count": 18,
   "metadata": {
    "pycharm": {
     "is_executing": false,
     "name": "#%%\n"
    }
   },
   "outputs": [],
   "source": [
    "def preprocess_text(text):\n",
    "    text = text.lower()\n",
    "    text = re.sub('((www\\.[^\\s]+)|(https?://[^\\s]+))', 'url', text) # remove URLs\n",
    "    text = re.sub(r\"(^[a-zA-Z0-9_.+-]+@[a-zA-Z0-9-]+\\.[a-zA-Z0-9-.]+$)\", \"email\", text) # remove email\n",
    "    text = re.sub(r'@([^\\s]+)', r'\\1', text) # remove eventually @<word>\n",
    "    text = re.sub(r'#([^\\s]+)', r'\\1', text) # remove eventually hashtag \n",
    "    text = re.sub(r'[#@]', \" \", text) # remove eventually isolated @#\n",
    "    text = re.sub(\"'\", \"' \", text)  #insert a space in every word with the <'> in order to be catched by tokenizer and filtered\n",
    "    text = re.sub(r\"([.]*)([0-9]+)([.]*)\", r\"\\0 \\1\", text) # i.e ciao123come20va -> ciao come va\n",
    "    text = re.sub(\"([*.\\-/+°])\", \" \", text) # remove special characters from words of kind \"..<word>\" \"***\" \"-<word>\" \"..<word>\"\n",
    "    return text\n",
    "\n",
    "class LemmaTokenizer(object):\n",
    "    def __init__(self):\n",
    "        self.stemmer = ItalianStemmer()\n",
    "    \n",
    "    def __call__(self, text):\n",
    "        lemmas = []\n",
    "        regex = re.compile(\"[0-9]+\")\n",
    "        stopwords = sw.words('italian') + ['quantum', \"url\", \"email\", 'sempre', 'stato', 'stati', 'stata', 'state', 'ogni', 'tutto', 'tutti', 'tutta', 'tutte']\n",
    "        text = preprocess_text(text)\n",
    "        for t in word_tokenize(text):\n",
    "            t = t.strip()\n",
    "            if t not in string.punctuation and 3 < len(t) < 16 and not regex.match(t) and t not in stopwords:\n",
    "                lemma = self.stemmer.stem(t)\n",
    "                lemmas.append(lemma)\n",
    "        return lemmas\n",
    "    "
   ]
  },
  {
   "cell_type": "code",
   "execution_count": 19,
   "metadata": {
    "pycharm": {
     "is_executing": false,
     "name": "#%%\n"
    }
   },
   "outputs": [],
   "source": [
    "X_train, X_test, y_train, y_test = train_test_split(X_dev, y_dev, shuffle=True, test_size=0.25)\n",
    "params_vect = {'min_df': [3, 5, 8, 10],\n",
    "               'binary': [True, False]}\n",
    "vectorizers = [CountVectorizer(input='content', tokenizer=LemmaTokenizer(), ngram_range=(1,2), **config)\n",
    "               for config in ParameterGrid(params_vect)]\n",
    "\n",
    "params_model = {'C': [1, 5, 10]}\n",
    "models = [LogisticRegression(max_iter=180, n_jobs=8, **config) for config in ParameterGrid(params_model)]\n",
    "\n",
    "pipelines = [Pipeline([\n",
    "    ('count', vectorizer),\n",
    "    ('tfidf', TfidfTransformer()),\n",
    "    ('classifier', model),\n",
    "]) for vectorizer in vectorizers for model in models]\n"
   ]
  },
  {
   "cell_type": "code",
   "execution_count": 20,
   "metadata": {
    "pycharm": {
     "is_executing": false,
     "name": "#%%\n"
    }
   },
   "outputs": [],
   "source": [
    "labels_predicted = []\n",
    "for pipe in pipelines:\n",
    "    pipe.fit(X_train, y_train)\n",
    "    y_pred = pipe.predict(X_test)\n",
    "    labels_predicted.append(y_pred)\n",
    "    "
   ]
  },
  {
   "cell_type": "code",
   "execution_count": 21,
   "metadata": {
    "pycharm": {
     "is_executing": false,
     "name": "#%%\n"
    }
   },
   "outputs": [],
   "source": [
    "# Redo of the parameter combinations just to extract the best one considered the best_index below\n",
    "total_config = []\n",
    "for conf_vec in ParameterGrid(params_vect):\n",
    "    for conf_mod in ParameterGrid(params_model):\n",
    "        total = conf_vec\n",
    "        total.update(conf_mod)\n",
    "        total_config.append(total)"
   ]
  },
  {
   "cell_type": "code",
   "execution_count": 22,
   "metadata": {
    "pycharm": {
     "is_executing": false,
     "name": "#%%\n"
    }
   },
   "outputs": [
    {
     "name": "stdout",
     "output_type": "stream",
     "text": [
      "              precision    recall  f1-score   support\n",
      "\n",
      "           0       0.96      0.94      0.95      2265\n",
      "           1       0.97      0.98      0.98      4924\n",
      "\n",
      "    accuracy                           0.97      7189\n",
      "   macro avg       0.96      0.96      0.96      7189\n",
      "weighted avg       0.97      0.97      0.97      7189\n",
      "\n",
      "Total f1 score: 0.9759401536595228\n",
      "Confusion Matrix:\n",
      "[[2124  141]\n",
      " [  97 4827]]\n",
      "CountVectorizer best params: [('binary', False), ('min_df', 10)]\n",
      "Logistic Regression best params: [('C', 10)]\n"
     ]
    }
   ],
   "source": [
    "f1_scores = [f1_score(y_test, y_pred) for y_pred in labels_predicted]\n",
    "best_ind = np.argmax(f1_scores)\n",
    "best_pipeline = pipelines[best_ind]\n",
    "print(classification_report(y_test, labels_predicted[best_ind]))\n",
    "print(f\"Total f1 score: {np.max(f1_scores)}\")\n",
    "print(f\"Confusion Matrix:\\n{confusion_matrix(y_test, labels_predicted[best_ind])}\")\n",
    "print(f\"CountVectorizer best params: {list(total_config[best_ind].items())[:2]}\")\n",
    "print(f\"Logistic Regression best params: {list(total_config[best_ind].items())[2:]}\")"
   ]
  },
  {
   "cell_type": "code",
   "execution_count": 23,
   "metadata": {
    "pycharm": {
     "is_executing": false,
     "name": "#%%\n"
    }
   },
   "outputs": [
    {
     "data": {
      "text/plain": [
       "Pipeline(memory=None,\n",
       "         steps=[('count',\n",
       "                 CountVectorizer(analyzer='word', binary=False,\n",
       "                                 decode_error='strict',\n",
       "                                 dtype=<class 'numpy.int64'>, encoding='utf-8',\n",
       "                                 input='content', lowercase=True, max_df=1.0,\n",
       "                                 max_features=None, min_df=10,\n",
       "                                 ngram_range=(1, 2), preprocessor=None,\n",
       "                                 stop_words=None, strip_accents=None,\n",
       "                                 token_pattern='(?u)\\\\b\\\\w\\\\w+\\\\b',\n",
       "                                 tokenizer=<__main__.LemmaTo...\n",
       "                 TruncatedSVD(algorithm='randomized', n_components=10000,\n",
       "                              n_iter=5, random_state=None, tol=0.0)),\n",
       "                ('classifier',\n",
       "                 LogisticRegression(C=10, class_weight=None, dual=False,\n",
       "                                    fit_intercept=True, intercept_scaling=1,\n",
       "                                    l1_ratio=None, max_iter=180,\n",
       "                                    multi_class='auto', n_jobs=8, penalty='l2',\n",
       "                                    random_state=None, solver='lbfgs',\n",
       "                                    tol=0.0001, verbose=0, warm_start=False))],\n",
       "         verbose=False)"
      ]
     },
     "execution_count": 23,
     "metadata": {},
     "output_type": "execute_result"
    }
   ],
   "source": [
    "# Tuning for the components selection\n",
    "final_pipe = clone(pipelines[best_ind])\n",
    "final_pipe.steps.insert(2, ('svd', TruncatedSVD(n_components=10000)))\n",
    "final_pipe.fit(X_dev, y_dev)"
   ]
  },
  {
   "cell_type": "code",
   "execution_count": 30,
   "metadata": {
    "pycharm": {
     "is_executing": false,
     "name": "#%%\n"
    }
   },
   "outputs": [
    {
     "data": {
      "text/plain": "<Figure size 432x288 with 1 Axes>",
      "image/png": "[encoded data removed]"
     },
     "metadata": {
      "needs_background": "light"
     },
     "output_type": "display_data"
    },
    {
     "name": "stdout",
     "text": [
      "Total components: 26699\n",
      "Kept components: 6820\n"
     ],
     "output_type": "stream"
    }
   ],
   "source": [
    "cum_variance = np.cumsum(final_pipe['svd'].explained_variance_ratio_)\n",
    "n_comps = np.argmax(cum_variance > .8)\n",
    "_, ax = plt.subplots()\n",
    "ax.plot(cum_variance*100, list(range(len(cum_variance))))\n",
    "ax.set_xlabel('explained variance (%)')\n",
    "ax.set_ylabel('components')\n",
    "ax.scatter(cum_variance[n_comps]*100, n_comps, marker='o', c='red')\n",
    "plt.show()\n",
    "print(f\"Total components: {len(best_pipeline['count'].get_feature_names())}\")\n",
    "print(f\"Kept components: {n_comps}\")\n"
   ]
  },
  {
   "cell_type": "code",
   "execution_count": 25,
   "metadata": {
    "pycharm": {
     "is_executing": false,
     "name": "#%%\n"
    }
   },
   "outputs": [],
   "source": [
    "# Training of the final model\n",
    "pipeline_ev = Pipeline([\n",
    "    ('count', best_pipeline['count']),\n",
    "    ('tfidf', TfidfTransformer()),\n",
    "    ('svd', TruncatedSVD(n_components=n_comps)),\n",
    "    ('classifier', best_pipeline['classifier']),\n",
    "])\n",
    "pipeline_ev.fit(X_dev, y_dev)\n",
    "y_pred_ev = pipeline_ev.predict(X_ev)"
   ]
  },
  {
   "cell_type": "code",
   "execution_count": 33,
   "metadata": {
    "pycharm": {
     "is_executing": false,
     "name": "#%%\n"
    }
   },
   "outputs": [],
   "source": [
    "# Write file\n",
    "with open(\"datasets/sample_submission8.csv\", \"w\", encoding=\"utf8\") as sub:\n",
    "    sub.write(\"Id,Predicted\\n\")\n",
    "    for i, label in enumerate(ints_to_labels(y_pred_ev)):\n",
    "        sub.write(f\"{i},{label}\\n\")\n",
    " \n",
    "\n"
   ]
  },
  {
   "cell_type": "code",
   "execution_count": 32,
   "metadata": {
    "pycharm": {
     "is_executing": false,
     "name": "#%%\n"
    }
   },
   "outputs": [
    {
     "name": "stdout",
     "text": [
      "1. estrem puliz\n",
      "2. confort puliz\n",
      "3. condizion dispon\n",
      "4. condizion general\n",
      "5. condizion lett\n",
      "6. condizion posizion\n",
      "7. struttur null\n",
      "8. condizion serviz\n",
      "9. quel tocc\n",
      "10. conferm hotel\n",
      "11. struttur lasc\n",
      "12. confort camer\n",
      "13. molt allegr\n",
      "14. quind andar\n",
      "15. quind cos\n",
      "16. moj\n",
      "17. confortevol cald\n",
      "18. struttur dop\n",
      "19. confortevol compless\n",
      "20. quind attenzion\n",
      "21. quind aver\n",
      "22. confortevol dorm\n",
      "23. quind ben\n",
      "24. mogl camer\n",
      "25. struttur confortevol\n"
     ],
     "output_type": "stream"
    }
   ],
   "source": [
    "#TOP 25 features\n",
    "coefs = pipeline_ev['tfidf'].idf_\n",
    "feature_names = pipeline_ev['count'].get_feature_names()\n",
    "best_features = [feature_names[i] for i in np.argsort(coefs)[::-1]]\n",
    "for i,feature in enumerate(best_features[:25]):\n",
    "    print(f\"{i+1}. {feature}\")"
   ]
  }
 ],
 "metadata": {
  "kernelspec": {
   "display_name": "Python 3",
   "language": "python",
   "name": "python3"
  },
  "language_info": {
   "codemirror_mode": {
    "name": "ipython",
    "version": 3
   },
   "file_extension": ".py",
   "mimetype": "text/x-python",
   "name": "python",
   "nbconvert_exporter": "python",
   "pygments_lexer": "ipython3",
   "version": "3.7.4"
  },
  "pycharm": {
   "stem_cell": {
    "cell_type": "raw",
    "source": [],
    "metadata": {
     "collapsed": false
    }
   }
  }
 },
 "nbformat": 4,
 "nbformat_minor": 1
}