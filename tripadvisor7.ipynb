{
 "cells": [
  {
   "cell_type": "code",
   "execution_count": 21,
   "metadata": {
    "collapsed": true,
    "pycharm": {
     "is_executing": false
    }
   },
   "outputs": [],
   "source": [
    "#Data Analysis\n",
    "import pandas as pd\n",
    "import matplotlib.pyplot as plt\n",
    "import seaborn as sns\n",
    "import numpy as np\n",
    "from sklearn.base import clone\n",
    "%matplotlib inline\n",
    "\n",
    "#Data Preprocessing and Feature Engineering\n",
    "import re\n",
    "import string\n",
    "from nltk.tokenize import word_tokenize\n",
    "from nltk.corpus import stopwords as sw\n",
    "from sklearn.feature_extraction.text import CountVectorizer, TfidfTransformer, TfidfVectorizer\n",
    "from nltk.stem.snowball import ItalianStemmer\n",
    "from sklearn.model_selection import ParameterGrid\n",
    "from sklearn.decomposition import TruncatedSVD\n",
    "\n",
    "#Model Selection and Validation\n",
    "from sklearn.linear_model import LogisticRegression\n",
    "from sklearn.naive_bayes import MultinomialNB\n",
    "from sklearn.model_selection import train_test_split\n",
    "from sklearn.pipeline import Pipeline\n",
    "from sklearn.metrics import confusion_matrix, classification_report, f1_score\n",
    "\n",
    "\n",
    "def labels_to_ints(labels):\n",
    "    return np.array(list(map(lambda x : 1 if x == \"pos\" else 0, labels)))\n",
    "\n",
    "def ints_to_labels(labels):\n",
    "    return list(map(lambda x : \"pos\" if x == 1 else \"neg\", labels))"
   ]
  },
  {
   "cell_type": "code",
   "execution_count": 11,
   "metadata": {
    "pycharm": {
     "is_executing": false,
     "name": "#%%\n"
    }
   },
   "outputs": [
    {
     "data": {
      "text/plain": [
       "41077"
      ]
     },
     "execution_count": 11,
     "metadata": {},
     "output_type": "execute_result"
    }
   ],
   "source": [
    "dev_df = pd.read_csv(\"datasets/development.csv\")\n",
    "X_dev = dev_df.loc[:, 'text']\n",
    "y_dev = labels_to_ints(dev_df.loc[:, 'class'])\n",
    "\n",
    "ev_df = pd.read_csv(\"datasets/evaluation.csv\")\n",
    "X_ev = ev_df.loc[:, 'text']\n",
    "\n",
    "X_dev.shape[0] + X_ev.shape[0]"
   ]
  },
  {
   "cell_type": "code",
   "execution_count": 12,
   "metadata": {
    "pycharm": {
     "is_executing": false,
     "name": "#%%\n"
    }
   },
   "outputs": [
    {
     "data": {
      "text/plain": [
       "<matplotlib.axes._subplots.AxesSubplot at 0x1dc100072c8>"
      ]
     },
     "execution_count": 12,
     "metadata": {},
     "output_type": "execute_result"
    },
    {
     "data": {
      "image/png": "[encoded data removed]",
      "text/plain": [
       "<Figure size 432x288 with 1 Axes>"
      ]
     },
     "metadata": {
      "needs_background": "light"
     },
     "output_type": "display_data"
    }
   ],
   "source": [
    "sns.countplot(x= 'class',data = dev_df)\n"
   ]
  },
  {
   "cell_type": "code",
   "execution_count": 13,
   "metadata": {
    "pycharm": {
     "is_executing": false,
     "name": "#%%\n"
    }
   },
   "outputs": [],
   "source": [
    "def preprocess_text(text):\n",
    "    text = text.lower()\n",
    "    text = re.sub('((www\\.[^\\s]+)|(https?://[^\\s]+))', 'url', text) # remove URLs\n",
    "    text = re.sub(r\"(^[a-zA-Z0-9_.+-]+@[a-zA-Z0-9-]+\\.[a-zA-Z0-9-.]+$)\", \"email\", text) # remove email\n",
    "    text = re.sub(r'@([^\\s]+)', r'\\1', text) # remove eventually @<word>\n",
    "    text = re.sub(r'#([^\\s]+)', r'\\1', text) # remove eventually hashtag \n",
    "    text = re.sub(r'[#@]', \" \", text) # remove eventually isolated @#\n",
    "    text = re.sub(\"'\", \"' \", text)  #insert a space in every word with the <'> in order to be catched by tokenizer and filtered\n",
    "    text = re.sub(r\"([.]*)([0-9]+)([.]*)\", r\"\\0 \\1\", text) # i.e ciao123come20va -> ciao come va\n",
    "    text = re.sub(\"([*.\\-/+°])\", \" \", text) # remove special characters from words of kind \"..<word>\" \"***\" \"-<word>\" \"..<word>\"\n",
    "    return text\n",
    "\n",
    "class LemmaTokenizer(object):\n",
    "    def __init__(self):\n",
    "        self.stemmer = ItalianStemmer()\n",
    "    \n",
    "    def __call__(self, text):\n",
    "        lemmas = []\n",
    "        regex = re.compile(\"[0-9]+\")\n",
    "        stopwords = sw.words('italian') + ['quantum', \"url\", \"email\", 'sempre', 'stato', 'stati', 'stata', 'state', 'ogni', 'tutto', 'tutti', 'tutta', 'tutte']\n",
    "        text = preprocess_text(text)\n",
    "        for t in word_tokenize(text):\n",
    "            t = t.strip()\n",
    "            if t not in string.punctuation and 3 < len(t) < 16 and not regex.match(t) and t not in stopwords:\n",
    "                lemma = self.stemmer.stem(t)\n",
    "                lemmas.append(lemma)\n",
    "        return lemmas\n",
    "    "
   ]
  },
  {
   "cell_type": "code",
   "execution_count": 22,
   "metadata": {
    "pycharm": {
     "is_executing": false,
     "name": "#%%\n"
    }
   },
   "outputs": [],
   "source": [
    "X_train, X_test, y_train, y_test = train_test_split(X_dev, y_dev, shuffle=True, test_size=0.20)\n",
    "pipeNB = Pipeline([\n",
    "    ('tfidf', TfidfVectorizer(input='content', min_df=10, tokenizer=LemmaTokenizer(), ngram_range=(1,2))),\n",
    "    ('model', MultinomialNB())\n",
    "])\n",
    "\n",
    "pipeLR = Pipeline([\n",
    "    ('tfidf', TfidfVectorizer(input='content', min_df=10, tokenizer=LemmaTokenizer(), ngram_range=(1,2))),\n",
    "    ('model', LogisticRegression(C=10, max_iter=200, n_jobs=8))\n",
    "])\n",
    "\n",
    "pipeNB.fit(X_train, y_train)\n",
    "pipeLR.fit(X_train, y_train)\n",
    "y_pred_NB = pipeNB.predict(X_test)\n",
    "y_pred_LR = pipeLR.predict(X_test)"
   ]
  },
  {
   "cell_type": "code",
   "execution_count": 23,
   "metadata": {
    "pycharm": {
     "is_executing": false,
     "name": "#%%\n"
    }
   },
   "outputs": [
    {
     "name": "stdout",
     "text": [
      "Naive Bayes\n",
      "              precision    recall  f1-score   support\n",
      "\n",
      "           0       0.97      0.88      0.92      1844\n",
      "           1       0.95      0.98      0.97      3907\n",
      "\n",
      "    accuracy                           0.95      5751\n",
      "   macro avg       0.96      0.93      0.94      5751\n",
      "weighted avg       0.95      0.95      0.95      5751\n",
      "\n",
      "0.9654999372726133\n",
      "\n",
      "Logistic Regression\n",
      "              precision    recall  f1-score   support\n",
      "\n",
      "           0       0.96      0.93      0.95      1844\n",
      "           1       0.97      0.98      0.98      3907\n",
      "\n",
      "    accuracy                           0.97      5751\n",
      "   macro avg       0.96      0.96      0.96      5751\n",
      "weighted avg       0.97      0.97      0.97      5751\n",
      "\n",
      "0.9752066115702479\n"
     ],
     "output_type": "stream"
    }
   ],
   "source": [
    "print(\"Naive Bayes\")\n",
    "print(classification_report(y_test, y_pred_NB))\n",
    "print(f1_score(y_test, y_pred_NB))\n",
    "print(\"\\nLogistic Regression\")\n",
    "print(classification_report(y_test, y_pred_LR))\n",
    "print(f1_score(y_test, y_pred_LR))"
   ]
  },
  {
   "cell_type": "code",
   "execution_count": 39,
   "outputs": [
    {
     "data": {
      "text/plain": "<Figure size 432x288 with 1 Axes>",
      "image/png": "[encoded data removed]"
     },
     "metadata": {
      "needs_background": "light"
     },
     "output_type": "display_data"
    }
   ],
   "source": [
    "from sklearn.metrics import accuracy_score, average_precision_score \n",
    "f1_scores = [f1_score(y_test, y_pred_NB), f1_score(y_test, y_pred_LR)]\n",
    "acc_scores = [accuracy_score(y_test, y_pred_NB), accuracy_score(y_test, y_pred_LR)]\n",
    "prec_scores = [average_precision_score(y_test, y_pred_NB), average_precision_score(y_test, y_pred_LR)]\n",
    "x = np.arange(2)\n",
    "width = 0.2\n",
    "labels = ['NB', 'LR']\n",
    "_, ax = plt.subplots()\n",
    "ax.bar(x+width, f1_scores, width=width, label='f1')\n",
    "ax.bar(x, acc_scores, width=width, label='accuracy')\n",
    "ax.bar(x-width, prec_scores, width=width, label='precision')\n",
    "ax.set_xticks(x) # setup positions of x ticks\n",
    "ax.set_xticklabels(labels) \n",
    "ax.set_yscale('log')\n",
    "ax.legend(loc=(1.1, 0.5))\n",
    "plt.show()"
   ],
   "metadata": {
    "collapsed": false,
    "pycharm": {
     "name": "#%%\n",
     "is_executing": false
    }
   }
  },
  {
   "cell_type": "code",
   "execution_count": 7,
   "metadata": {
    "pycharm": {
     "is_executing": false,
     "name": "#%%\n"
    }
   },
   "outputs": [],
   "source": [
    "labels_predicted = []\n",
    "for pipe in pipelines:\n",
    "    pipe.fit(X_train, y_train)\n",
    "    y_pred = pipe.predict(X_test)\n",
    "    labels_predicted.append(y_pred)\n",
    "    "
   ]
  },
  {
   "cell_type": "code",
   "execution_count": 8,
   "metadata": {
    "pycharm": {
     "is_executing": false,
     "name": "#%%\n"
    }
   },
   "outputs": [
    {
     "name": "stdout",
     "output_type": "stream",
     "text": [
      "{'classifier__C': 15, 'classifier__class_weight': None, 'count__min_df': 5, 'count__ngram_range': (1, 2), 'count__strip_accents': 'unicode', 'pca__n_components': 100}\n"
     ]
    }
   ],
   "source": [
    "total_config = []\n",
    "for conf_vec in ParameterGrid(params_vect):\n",
    "    for conf_mod in ParameterGrid(params_model):\n",
    "        total = conf_vec\n",
    "        total.update(conf_mod)\n",
    "        total_config.append(total)"
   ]
  },
  {
   "cell_type": "code",
   "execution_count": 9,
   "metadata": {
    "pycharm": {
     "is_executing": false,
     "name": "#%%\n"
    }
   },
   "outputs": [
    {
     "name": "stdout",
     "output_type": "stream",
     "text": [
      "              precision    recall  f1-score   support\n",
      "\n",
      "           0       0.90      0.92      0.91      2260\n",
      "           1       0.96      0.95      0.96      4929\n",
      "\n",
      "    accuracy                           0.94      7189\n",
      "   macro avg       0.93      0.94      0.93      7189\n",
      "weighted avg       0.94      0.94      0.94      7189\n",
      "\n",
      "[[2088  172]\n",
      " [ 238 4691]]\n",
      "0.9581290849673203\n"
     ]
    }
   ],
   "source": [
    "f1_scores = [f1_score(y_test, y_pred) for y_pred in labels_predicted]\n",
    "best_ind = np.argmax(f1_scores)\n",
    "best_pipeline = pipelines[best_ind]\n",
    "print(classification_report(y_test, labels_predicted[best_ind]))\n",
    "print(f\"Total f1 score: {np.max(f1_scores)}\")\n",
    "print(f\"Confusion Matrix:\\n{confusion_matrix(y_test, labels_predicted[best_ind])}\")\n",
    "print(f\"CountVectorizer best params: {list(total_config[best_ind].items())[:2]}\")\n",
    "print(f\"Logistic Regression best params: {list(total_config[best_ind].items())[2:]}\")"
   ]
  },
  {
   "cell_type": "code",
   "execution_count": 12,
   "metadata": {
    "pycharm": {
     "is_executing": false,
     "name": "#%%\n"
    }
   },
   "outputs": [],
   "source": [
    "final_pipe = clone(pipelines[best_ind])\n",
    "final_pipe.steps.insert(2, ('svd', TruncatedSVD(n_components=10000)))\n",
    "final_pipe.fit(X_dev, y_dev)"
   ]
  },
  {
   "cell_type": "code",
   "execution_count": 14,
   "metadata": {
    "pycharm": {
     "is_executing": false,
     "name": "#%%\n"
    }
   },
   "outputs": [],
   "source": [
    "cum_variance = np.cumsum(final_pipe['svd'].explained_variance_ratio_)\n",
    "n_comps = np.argmax(cum_variance > .8)\n",
    "_, ax = plt.subplots()\n",
    "ax.plot(cum_variance*100, list(range(len(cum_variance))))\n",
    "ax.set_xlabel('cumulative variance (%)')\n",
    "ax.set_ylabel('components')\n",
    "plt.show()\n",
    "n_comps\n"
   ]
  },
  {
   "cell_type": "code",
   "execution_count": null,
   "metadata": {
    "pycharm": {
     "name": "#%%\n"
    }
   },
   "outputs": [],
   "source": [
    "pipeline_ev = Pipeline([\n",
    "    ('count', best_pipeline['count']),\n",
    "    ('tfidf', TfidfTransformer()),\n",
    "    ('svd', TruncatedSVD(n_components=n_comps)),\n",
    "    ('classifier', best_pipeline['classifier']),\n",
    "])\n",
    "pipeline_ev.fit(X_dev, y_dev)\n",
    "y_pred_ev = pipeline_ev.predict(X_ev)"
   ]
  },
  {
   "cell_type": "code",
   "execution_count": null,
   "metadata": {
    "pycharm": {
     "name": "#%%\n"
    }
   },
   "outputs": [],
   "source": [
    "with open(\"datasets/sample_submission8.csv\", \"w\", encoding=\"utf8\") as sub:\n",
    "    sub.write(\"Id,Predicted\\n\")\n",
    "    for i, label in enumerate(ints_to_labels(y_pred_ev)):\n",
    "        sub.write(f\"{i},{label}\\n\")\n",
    " \n",
    "\n"
   ]
  },
  {
   "cell_type": "code",
   "execution_count": null,
   "metadata": {
    "pycharm": {
     "name": "#%%\n"
    }
   },
   "outputs": [],
   "source": [
    "coefs = pipeline_ev['tfidf'].idf_\n",
    "feature_names = pipeline_ev['count'].get_feature_names()\n",
    "best_features = [feature_names[i] for i in np.argsort(coefs)[::-1]]\n",
    "best_features[:100]"
   ]
  }
 ],
 "metadata": {
  "kernelspec": {
   "display_name": "Python 3",
   "language": "python",
   "name": "python3"
  },
  "language_info": {
   "codemirror_mode": {
    "name": "ipython",
    "version": 3
   },
   "file_extension": ".py",
   "mimetype": "text/x-python",
   "name": "python",
   "nbconvert_exporter": "python",
   "pygments_lexer": "ipython3",
   "version": "3.7.4"
  },
  "pycharm": {
   "stem_cell": {
    "cell_type": "raw",
    "source": [],
    "metadata": {
     "collapsed": false
    }
   }
  }
 },
 "nbformat": 4,
 "nbformat_minor": 1
}