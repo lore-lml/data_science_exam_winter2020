{
 "cells": [
  {
   "cell_type": "code",
   "execution_count": 2,
   "metadata": {
    "collapsed": true,
    "pycharm": {
     "is_executing": false
    }
   },
   "outputs": [],
   "source": [
    "#Data Analysis\n",
    "import pandas as pd\n",
    "import matplotlib.pyplot as plt\n",
    "import numpy as np\n",
    "import seaborn as sns\n",
    "%matplotlib inline\n",
    "\n",
    "#Data Preprocessing and Feature Engineering\n",
    "import re\n",
    "import string\n",
    "from nltk.tokenize import word_tokenize\n",
    "from nltk.corpus import stopwords as sw\n",
    "from nltk.stem.wordnet import WordNetLemmatizer\n",
    "from sklearn.feature_extraction.text import CountVectorizer, TfidfTransformer\n",
    "from sklearn.decomposition import TruncatedSVD\n",
    "\n",
    "#Model Selection and Validation\n",
    "from sklearn.naive_bayes import MultinomialNB\n",
    "from sklearn.linear_model import LogisticRegression\n",
    "from sklearn.model_selection import train_test_split\n",
    "from sklearn.pipeline import Pipeline\n",
    "from sklearn.metrics import confusion_matrix, classification_report, f1_score\n",
    "from sklearn.model_selection import GridSearchCV\n",
    "\n",
    "\n",
    "def labels_to_ints(labels):\n",
    "    return np.array(list(map(lambda x : 1 if x == \"pos\" else 0, labels)))\n",
    "\n",
    "def ints_to_labels(labels):\n",
    "    return list(map(lambda x : \"pos\" if x == 1 else \"neg\", labels))"
   ]
  },
  {
   "cell_type": "code",
   "execution_count": 3,
   "outputs": [
    {
     "data": {
      "text/plain": "41077"
     },
     "metadata": {},
     "output_type": "execute_result",
     "execution_count": 3
    }
   ],
   "source": [
    "dev_df = pd.read_csv(\"datasets/development.csv\")\n",
    "X_dev = dev_df.loc[:, 'text']\n",
    "y_dev = labels_to_ints(dev_df.loc[:, 'class'])\n",
    "\n",
    "ev_df = pd.read_csv(\"datasets/evaluation.csv\")\n",
    "X_ev = ev_df.loc[:, 'text']\n",
    "\n",
    "X_dev.shape[0] + X_ev.shape[0]\n"
   ],
   "metadata": {
    "collapsed": false,
    "pycharm": {
     "name": "#%%\n",
     "is_executing": false
    }
   }
  },
  {
   "cell_type": "code",
   "execution_count": 4,
   "outputs": [
    {
     "data": {
      "text/plain": "<matplotlib.axes._subplots.AxesSubplot at 0x2b3a2448b88>"
     },
     "metadata": {},
     "output_type": "execute_result",
     "execution_count": 4
    },
    {
     "data": {
      "text/plain": "<Figure size 432x288 with 1 Axes>",
      "image/png": "[encoded data removed]"
     },
     "metadata": {
      "needs_background": "light"
     },
     "output_type": "display_data"
    }
   ],
   "source": [
    "sns.countplot(x= 'class',data = dev_df)\n",
    "sns.barplot()"
   ],
   "metadata": {
    "collapsed": false,
    "pycharm": {
     "name": "#%%\n",
     "is_executing": false
    }
   }
  },
  {
   "cell_type": "code",
   "execution_count": 5,
   "outputs": [],
   "source": [
    "def preprocess_word(text):\n",
    "    text = text.lower()\n",
    "    text = re.sub('((www\\.[^\\s]+)|(https?://[^\\s]+))', 'url', text) # remove URLs\n",
    "    text = re.sub(r\"(^[a-zA-Z0-9_.+-]+@[a-zA-Z0-9-]+\\.[a-zA-Z0-9-.]+$)\", \"email\", text) # remove email\n",
    "    text = re.sub('@[^\\s]+', 'at', text) # remove eventually @<word>\n",
    "    text = re.sub(r'#([^\\s]+)', r'\\1', text) # remove eventually hashtag \n",
    "    text = re.sub(r'[#@]', \" \", text) # remove eventually isolated @#\n",
    "    text = re.sub(\"'\", \"' \", text)  #insert a space in every word with the <'> in order to be catched by tokenizer and filtered\n",
    "    text = re.sub(r\"([.]*)([0-9]+)([.]*)\", r\"\\0 \\1\", text) # i.e ciao123come20va -> ciao come va\n",
    "    text = re.sub(\"([*.\\-/+])\", \" \", text) # remove special characters from words of kind \"..<word>\" \"***\" \"-<word>\" \"..<word>\"\n",
    "    return text\n",
    "\n",
    "class LemmaTokenizer(object):\n",
    "    def __init__(self):\n",
    "        self.lemmatizer = WordNetLemmatizer()\n",
    "    \n",
    "    def __call__(self, text):\n",
    "        lemmas = []\n",
    "        regex = re.compile(\"[0-9]+\")\n",
    "        \n",
    "        text = preprocess_word(text)\n",
    "        for t in word_tokenize(text):\n",
    "            t = t.strip()\n",
    "            lemma = self.lemmatizer.lemmatize(t, )\n",
    "            if lemma not in string.punctuation and 3 < len(lemma) < 16 and not regex.match(lemma):\n",
    "                lemmas.append(lemma)\n",
    "        return lemmas\n",
    "    "
   ],
   "metadata": {
    "collapsed": false,
    "pycharm": {
     "name": "#%%\n",
     "is_executing": false
    }
   }
  },
  {
   "cell_type": "code",
   "execution_count": 6,
   "outputs": [],
   "source": [
    "X_train, X_test, y_train, y_test = train_test_split(X_dev, y_dev, shuffle=True, test_size=0.25)\n",
    "stopwords = sw.words('italian') + ['quantum', \"url\", \"at\", \"email\", 'sempre', 'avra', 'avro', 'fara', 'faro', 'perche', 'sara', 'saro', 'stara', 'staro']"
   ],
   "metadata": {
    "collapsed": false,
    "pycharm": {
     "name": "#%%\n",
     "is_executing": false
    }
   }
  },
  {
   "cell_type": "code",
   "execution_count": 7,
   "outputs": [],
   "source": [
    "params = {\n",
    "    'count__min_df': [5, 8, 10],\n",
    "    'count__strip_accents': [None, 'unicode'],\n",
    "    'count__ngram_range': [(1,1), (1,2)],\n",
    "    'pca__n_components': [3500, 4200, 5000],\n",
    "    'classifier__C': [8, 10, 15],\n",
    "    'classifier__class_weight': ['balanced', None]\n",
    "}"
   ],
   "metadata": {
    "collapsed": false,
    "pycharm": {
     "name": "#%%\n",
     "is_executing": false
    }
   }
  },
  {
   "cell_type": "code",
   "execution_count": 8,
   "outputs": [
    {
     "name": "stdout",
     "text": [
      "{'classifier__C': 15, 'classifier__class_weight': None, 'count__min_df': 5, 'count__ngram_range': (1, 2), 'count__strip_accents': 'unicode', 'pca__n_components': 100}\n"
     ],
     "output_type": "stream"
    }
   ],
   "source": [
    "pipeline = Pipeline([\n",
    "    ('count',CountVectorizer(input='content', tokenizer=LemmaTokenizer(), stop_words=stopwords)),\n",
    "    ('tfidf', TfidfTransformer()),\n",
    "    ('pca', TruncatedSVD()),\n",
    "    ('classifier', LogisticRegression(max_iter=200)),\n",
    "])\n",
    "\n",
    "grid = GridSearchCV(pipeline, params, n_jobs=8, cv=5, scoring='f1')\n",
    "grid.fit(X_train, y_train)\n",
    "print(grid.best_params_)"
   ],
   "metadata": {
    "collapsed": false,
    "pycharm": {
     "name": "#%%\n",
     "is_executing": false
    }
   }
  },
  {
   "cell_type": "code",
   "execution_count": 9,
   "outputs": [
    {
     "name": "stdout",
     "text": [
      "              precision    recall  f1-score   support\n",
      "\n",
      "           0       0.90      0.92      0.91      2260\n",
      "           1       0.96      0.95      0.96      4929\n",
      "\n",
      "    accuracy                           0.94      7189\n",
      "   macro avg       0.93      0.94      0.93      7189\n",
      "weighted avg       0.94      0.94      0.94      7189\n",
      "\n",
      "[[2088  172]\n",
      " [ 238 4691]]\n",
      "0.9581290849673203\n"
     ],
     "output_type": "stream"
    }
   ],
   "source": [
    "y_predict = grid.predict(X_test)\n",
    "print(classification_report(y_predict,y_test))\n",
    "print(confusion_matrix(y_predict,y_test))\n",
    "print(f1_score(y_predict,y_test))\n"
   ],
   "metadata": {
    "collapsed": false,
    "pycharm": {
     "name": "#%%\n",
     "is_executing": false
    }
   }
  },
  {
   "cell_type": "code",
   "execution_count": 12,
   "outputs": [],
   "source": [
    "pipeline_f = Pipeline([\n",
    "    ('count',CountVectorizer(input='content', tokenizer=LemmaTokenizer(), stop_words=stopwords)),\n",
    "    ('tfidf', TfidfTransformer()),\n",
    "    ('pca', TruncatedSVD()),\n",
    "    ('classifier', LogisticRegression(max_iter=200)),\n",
    "])\n",
    "best_p = grid.best_params_\n",
    "best_p = {k:[v] for k,v in best_p.items()}\n",
    "grid_f = GridSearchCV(pipeline_f, best_p, n_jobs=8, cv=5, scoring='f1')\n",
    "grid_f.fit(X_dev, y_dev)\n",
    "y_pred_ev = grid_f.predict(X_ev)"
   ],
   "metadata": {
    "collapsed": false,
    "pycharm": {
     "name": "#%%\n",
     "is_executing": false
    }
   }
  },
  {
   "cell_type": "code",
   "execution_count": 14,
   "outputs": [],
   "source": [
    "\n",
    "with open(\"datasets/sample_submission7.csv\", \"w\", encoding=\"utf8\") as sub:\n",
    "    sub.write(\"Id,Predicted\\n\")\n",
    "    for i, label in enumerate(ints_to_labels(y_pred_ev)):\n",
    "        sub.write(f\"{i},{label}\\n\")\n"
   ],
   "metadata": {
    "collapsed": false,
    "pycharm": {
     "name": "#%%\n",
     "is_executing": false
    }
   }
  }
 ],
 "metadata": {
  "kernelspec": {
   "display_name": "Python 3",
   "language": "python",
   "name": "python3"
  },
  "language_info": {
   "codemirror_mode": {
    "name": "ipython",
    "version": 2
   },
   "file_extension": ".py",
   "mimetype": "text/x-python",
   "name": "python",
   "nbconvert_exporter": "python",
   "pygments_lexer": "ipython2",
   "version": "2.7.6"
  },
  "pycharm": {
   "stem_cell": {
    "cell_type": "raw",
    "source": [],
    "metadata": {
     "collapsed": false
    }
   }
  }
 },
 "nbformat": 4,
 "nbformat_minor": 0
}