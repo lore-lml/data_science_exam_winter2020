{
 "cells": [
  {
   "cell_type": "markdown",
   "source": [
    "#Functions to read devset and evalset and labels conversion"
   ],
   "metadata": {
    "collapsed": false,
    "pycharm": {
     "name": "#%% md\n"
    }
   }
  },
  {
   "cell_type": "code",
   "execution_count": 1,
   "outputs": [],
   "source": [
    "import csv\n",
    "import numpy as np\n",
    "\n",
    "def read_devset():\n",
    "    X = []\n",
    "    y = []\n",
    "    with open(\"datasets/development.csv\", encoding=\"utf8\") as dev_set:\n",
    "        reader = csv.reader(dev_set)\n",
    "        next(reader)\n",
    "        for row in reader:\n",
    "            X.append(row[0])\n",
    "            y.append(row[1])\n",
    "    \n",
    "    return X, labels_to_ints(y)\n",
    "\n",
    "def read_evalset():\n",
    "    X = []\n",
    "    with open(\"datasets/evaluation.csv\", encoding=\"utf8\") as eval_set:\n",
    "        reader = csv.reader(eval_set)\n",
    "        next(reader)\n",
    "        for row in reader:\n",
    "            X.append(row[0])\n",
    "    \n",
    "    return X\n",
    "def labels_to_ints(labels):\n",
    "    return np.array(list(map(lambda x : 1 if x == \"pos\" else 0, labels)))\n",
    "\n",
    "def ints_to_labels(labels):\n",
    "    return list(map(lambda x : \"pos\" if x == 1 else \"neg\", labels))\n"
   ],
   "metadata": {
    "collapsed": false,
    "pycharm": {
     "name": "#%%\n",
     "is_executing": false
    }
   }
  },
  {
   "cell_type": "code",
   "execution_count": 2,
   "outputs": [
    {
     "data": {
      "text/plain": "41077"
     },
     "metadata": {},
     "output_type": "execute_result",
     "execution_count": 2
    }
   ],
   "source": [
    "X, y = read_devset()\n",
    "X_ev = read_evalset()\n",
    "len(X) + len(X_ev)"
   ],
   "metadata": {
    "collapsed": false,
    "pycharm": {
     "name": "#%%\n",
     "is_executing": false
    }
   }
  },
  {
   "cell_type": "code",
   "execution_count": 3,
   "outputs": [],
   "source": [
    "from sklearn.model_selection import train_test_split\n",
    "X_train, X_test, y_train, y_test = train_test_split(X,y, shuffle=True)"
   ],
   "metadata": {
    "collapsed": false,
    "pycharm": {
     "name": "#%%\n",
     "is_executing": false
    }
   }
  },
  {
   "cell_type": "code",
   "execution_count": 4,
   "outputs": [],
   "source": [
    "from nltk.tokenize import word_tokenize\n",
    "from nltk.stem.wordnet import WordNetLemmatizer\n",
    "import string\n",
    "import re\n",
    "\n",
    "def preprocess_word(text):\n",
    "    text = text.lower()\n",
    "    text = re.sub('((www\\.[^\\s]+)|(https?://[^\\s]+))', 'url', text) # remove URLs\n",
    "    text = re.sub(r\"(^[a-zA-Z0-9_.+-]+@[a-zA-Z0-9-]+\\.[a-zA-Z0-9-.]+$)\", \"email\", text) # remove email\n",
    "    text = re.sub('@[^\\s]+', 'at', text) # remove eventually @<word>\n",
    "    text = re.sub(r'#([^\\s]+)', r'\\1', text) # remove eventually hashtag \n",
    "    text = re.sub(r'[#@]', \" \", text) # remove eventually isolated @#\n",
    "    text = re.sub(\"'\", \"' \", text)  #insert a space in every word with the <'> in order to be catched by tokenizer and filtered\n",
    "    text = re.sub(r\"([.]*)([0-9]+)([.]*)\", r\"\\0 \\1\", text) # i.e ciao123come20va -> ciao come va\n",
    "    text = re.sub(\"([*.\\-/+])\", \" \", text) # remove special characters from words of kind \"..<word>\" \"***\" \"-<word>\" \"..<word>\"\n",
    "    return text\n",
    "\n",
    "class LemmaTokenizer(object):\n",
    "    def __init__(self):\n",
    "        self.lemmatizer = WordNetLemmatizer()\n",
    "    \n",
    "    def __call__(self, text):\n",
    "        lemmas = []\n",
    "        regex = re.compile(\"[0-9]+\")\n",
    "        \n",
    "        text = preprocess_word(text)\n",
    "        for t in word_tokenize(text):\n",
    "            t = t.strip()\n",
    "            lemma = self.lemmatizer.lemmatize(t)\n",
    "            if lemma not in string.punctuation and 3 < len(lemma) < 16 and not regex.match(lemma):\n",
    "                lemmas.append(lemma)\n",
    "        return lemmas\n"
   ],
   "metadata": {
    "collapsed": false,
    "pycharm": {
     "name": "#%%\n",
     "is_executing": false
    }
   }
  },
  {
   "cell_type": "code",
   "execution_count": 5,
   "outputs": [],
   "source": [
    "from sklearn.model_selection import ParameterGrid\n",
    "from nltk.corpus import stopwords as sw\n",
    "lemmaTokenizer = LemmaTokenizer()\n",
    "stopwords = sw.words('italian') + ['quantum', \"url\", \"at\", \"email\"]\n",
    "params = {\n",
    "    \"input\": [\"content\"],\n",
    "    \"tokenizer\": [lemmaTokenizer],\n",
    "    \"stop_words\": [stopwords],\n",
    "    \"binary\": [True],\n",
    "    \"min_df\": [1, 2, 3],\n",
    "    \"ngram_range\": [(1,1), (1,2), (2,2)]\n",
    "}\n",
    "configs = ParameterGrid(params)"
   ],
   "metadata": {
    "collapsed": false,
    "pycharm": {
     "name": "#%%\n",
     "is_executing": false
    }
   }
  },
  {
   "cell_type": "code",
   "execution_count": 6,
   "outputs": [],
   "source": [
    "from sklearn.feature_extraction.text import TfidfVectorizer\n",
    "vectorizers = []\n",
    "X_train_sets = []\n",
    "X_test_sets = []\n",
    "for conf in configs:\n",
    "    vectorizer = TfidfVectorizer(**conf)\n",
    "    X_train_sets.append(vectorizer.fit_transform(X_train, y_train))\n",
    "    X_test_sets.append(vectorizer.transform(X_test))\n",
    "    vectorizers.append(vectorizer)"
   ],
   "metadata": {
    "collapsed": false,
    "pycharm": {
     "name": "#%%\n",
     "is_executing": false
    }
   }
  },
  {
   "cell_type": "code",
   "execution_count": 7,
   "outputs": [
    {
     "name": "stdout",
     "text": [
      "(1, 1): 44739\n",
      "(1, 2): 711840\n",
      "(2, 2): 667101\n",
      "(1, 1): 23612\n",
      "(1, 2): 149949\n",
      "(2, 2): 126337\n",
      "(1, 1): 17947\n",
      "(1, 2): 81908\n",
      "(2, 2): 63961\n"
     ],
     "output_type": "stream"
    }
   ],
   "source": [
    "for conf, vec in zip(configs, vectorizers):\n",
    "    print(f\"{conf['ngram_range']}: {len(vec.vocabulary_)}\")\n",
    "    "
   ],
   "metadata": {
    "collapsed": false,
    "pycharm": {
     "name": "#%%\n",
     "is_executing": false
    }
   }
  },
  {
   "cell_type": "code",
   "execution_count": 8,
   "outputs": [
    {
     "name": "stdout",
     "text": [
      "Vocabulary size: 44739\n",
      "X_train:\n",
      "<21565x44739 sparse matrix of type '<class 'numpy.float64'>'\n",
      "\twith 1156264 stored elements in Compressed Sparse Row format>\n",
      "X_test: \n",
      "<7189x44739 sparse matrix of type '<class 'numpy.float64'>'\n",
      "\twith 377118 stored elements in Compressed Sparse Row format>\n",
      "Vocabulary size: 711840\n",
      "X_train:\n",
      "<21565x711840 sparse matrix of type '<class 'numpy.float64'>'\n",
      "\twith 2423383 stored elements in Compressed Sparse Row format>\n",
      "X_test: \n",
      "<7189x711840 sparse matrix of type '<class 'numpy.float64'>'\n",
      "\twith 618107 stored elements in Compressed Sparse Row format>\n",
      "Vocabulary size: 667101\n",
      "X_train:\n",
      "<21565x667101 sparse matrix of type '<class 'numpy.float64'>'\n",
      "\twith 1267119 stored elements in Compressed Sparse Row format>\n",
      "X_test: \n",
      "<7189x667101 sparse matrix of type '<class 'numpy.float64'>'\n",
      "\twith 240989 stored elements in Compressed Sparse Row format>\n",
      "Vocabulary size: 23612\n",
      "X_train:\n",
      "<21565x23612 sparse matrix of type '<class 'numpy.float64'>'\n",
      "\twith 1135137 stored elements in Compressed Sparse Row format>\n",
      "X_test: \n",
      "<7189x23612 sparse matrix of type '<class 'numpy.float64'>'\n",
      "\twith 373342 stored elements in Compressed Sparse Row format>\n",
      "Vocabulary size: 149949\n",
      "X_train:\n",
      "<21565x149949 sparse matrix of type '<class 'numpy.float64'>'\n",
      "\twith 1861492 stored elements in Compressed Sparse Row format>\n",
      "X_test: \n",
      "<7189x149949 sparse matrix of type '<class 'numpy.float64'>'\n",
      "\twith 572938 stored elements in Compressed Sparse Row format>\n",
      "Vocabulary size: 126337\n",
      "X_train:\n",
      "<21565x126337 sparse matrix of type '<class 'numpy.float64'>'\n",
      "\twith 726355 stored elements in Compressed Sparse Row format>\n",
      "X_test: \n",
      "<7189x126337 sparse matrix of type '<class 'numpy.float64'>'\n",
      "\twith 199596 stored elements in Compressed Sparse Row format>\n",
      "Vocabulary size: 17947\n",
      "X_train:\n",
      "<21565x17947 sparse matrix of type '<class 'numpy.float64'>'\n",
      "\twith 1123807 stored elements in Compressed Sparse Row format>\n",
      "X_test: \n",
      "<7189x17947 sparse matrix of type '<class 'numpy.float64'>'\n",
      "\twith 370368 stored elements in Compressed Sparse Row format>\n",
      "Vocabulary size: 81908\n",
      "X_train:\n",
      "<21565x81908 sparse matrix of type '<class 'numpy.float64'>'\n",
      "\twith 1725410 stored elements in Compressed Sparse Row format>\n",
      "X_test: \n",
      "<7189x81908 sparse matrix of type '<class 'numpy.float64'>'\n",
      "\twith 547869 stored elements in Compressed Sparse Row format>\n",
      "Vocabulary size: 63961\n",
      "X_train:\n",
      "<21565x63961 sparse matrix of type '<class 'numpy.float64'>'\n",
      "\twith 601603 stored elements in Compressed Sparse Row format>\n",
      "X_test: \n",
      "<7189x63961 sparse matrix of type '<class 'numpy.float64'>'\n",
      "\twith 177501 stored elements in Compressed Sparse Row format>\n"
     ],
     "output_type": "stream"
    }
   ],
   "source": [
    "for vec, train, test in zip(vectorizers,X_train_sets, X_test_sets):\n",
    "    print(\"Vocabulary size: {}\".format(len(vec.vocabulary_)))\n",
    "    print(\"X_train:\\n{}\".format(repr(train)))\n",
    "    print(\"X_test: \\n{}\".format(repr(test)))\n",
    "    "
   ],
   "metadata": {
    "collapsed": false,
    "pycharm": {
     "name": "#%%\n",
     "is_executing": false
    }
   }
  },
  {
   "cell_type": "code",
   "execution_count": 9,
   "outputs": [],
   "source": [
    "from sklearn.model_selection import GridSearchCV\n",
    "from sklearn.linear_model import LogisticRegression\n",
    "\n",
    "grids = []\n",
    "param_grid = {'C': [0.01, 0.1, 1, 10], 'max_iter': [200]}\n",
    "for train, vec in zip(X_train_sets, vectorizers):\n",
    "    grid = GridSearchCV(LogisticRegression(), param_grid, cv=5, scoring='f1')\n",
    "    grid.fit(train, y_train)\n",
    "    grids.append(grid)\n",
    "    "
   ],
   "metadata": {
    "collapsed": false,
    "pycharm": {
     "name": "#%%\n",
     "is_executing": false
    }
   }
  },
  {
   "cell_type": "code",
   "execution_count": 10,
   "outputs": [
    {
     "name": "stdout",
     "text": [
      "Best f1 score: 0.9721007920437318\n",
      "Best parameters: {'C': 10, 'max_iter': 200}\n",
      "Best estimator: LogisticRegression(C=10, class_weight=None, dual=False, fit_intercept=True,\n",
      "                   intercept_scaling=1, l1_ratio=None, max_iter=200,\n",
      "                   multi_class='auto', n_jobs=None, penalty='l2',\n",
      "                   random_state=None, solver='lbfgs', tol=0.0001, verbose=0,\n",
      "                   warm_start=False)\n"
     ],
     "output_type": "stream"
    }
   ],
   "source": [
    "scores = list(map(lambda x: x.best_score_, grids))\n",
    "print(f\"Best f1 score: {np.max(scores)}\")\n",
    "best_params = grids[int(np.argmax(scores))].best_params_\n",
    "print(f\"Best parameters: {best_params}\")\n",
    "best_estimator = grids[int(np.argmax(scores))].best_estimator_\n",
    "print(f\"Best estimator: {best_estimator}\")\n",
    "best_vectorizer_params = vectorizers[int(np.argmax(scores))].get_params()"
   ],
   "metadata": {
    "collapsed": false,
    "pycharm": {
     "name": "#%%\n",
     "is_executing": false
    }
   }
  },
  {
   "cell_type": "markdown",
   "source": [
    "FINAL TRAIN"
   ],
   "metadata": {
    "collapsed": false,
    "pycharm": {
     "name": "#%% md\n",
     "is_executing": false
    }
   }
  },
  {
   "cell_type": "code",
   "execution_count": 11,
   "outputs": [
    {
     "name": "stderr",
     "text": [
      "c:\\program files\\python37\\lib\\site-packages\\sklearn\\feature_extraction\\text.py:385: UserWarning: Your stop_words may be inconsistent with your preprocessing. Tokenizing the stop words generated tokens ['avra', 'avro', 'fara', 'faro', 'perche', 'sara', 'saro', 'stara', 'staro'] not in stop_words.\n",
      "  'stop_words.' % sorted(inconsistent))\n"
     ],
     "output_type": "stream"
    }
   ],
   "source": [
    "best_vectorizer_params['strip_accents'] = 'unicode' #Added now because of too much computational time need to find best params\n",
    "vectorizer = TfidfVectorizer(**best_vectorizer_params)\n",
    "X_count_train = vectorizer.fit_transform(X, y)\n",
    "X_count_test = vectorizer.transform(X_ev)\n",
    "\n",
    "clf = LogisticRegression(**best_params)\n",
    "clf.fit(X_count_train, y)\n",
    "y_pred = clf.predict(X_count_test)\n"
   ],
   "metadata": {
    "collapsed": false,
    "pycharm": {
     "name": "#%%\n",
     "is_executing": false
    }
   }
  },
  {
   "cell_type": "code",
   "execution_count": 12,
   "outputs": [],
   "source": [
    "with open(\"datasets/sample_submission4.csv\", \"w\", encoding=\"utf8\") as sub:\n",
    "    sub.write(\"Id,Predicted\\n\")\n",
    "    for i, label in enumerate(ints_to_labels(y_pred)):\n",
    "        sub.write(f\"{i},{label}\\n\")\n",
    "        \n"
   ],
   "metadata": {
    "collapsed": false,
    "pycharm": {
     "name": "#%%\n",
     "is_executing": false
    }
   }
  },
  {
   "cell_type": "code",
   "execution_count": 13,
   "outputs": [
    {
     "name": "stdout",
     "text": [
      "preso doccia -> -6.2700007994435735e-06\n",
      "sveglia mattina -> -2.5728052909494025e-05\n",
      "futuro sicuramente -> -2.6986929333871216e-05\n",
      "casa sicuramente -> -3.7173314086693324e-05\n",
      "soggiorno parte -> -3.7552740708472045e-05\n",
      "superior prezzo -> -4.604393596280508e-05\n",
      "stanza trovava -> -4.712287184590667e-05\n",
      "euro tariffa -> -5.003282150786284e-05\n",
      "citta italiana -> -6.088619205873695e-05\n",
      "firenze hotel -> -6.258133841101989e-05\n",
      "indicato bambino -> -6.99975026400312e-05\n",
      "sempre alloggiato -> -7.709341079784525e-05\n",
      "camera entro -> -7.946094534968798e-05\n",
      "essi andati -> -8.080741093211187e-05\n",
      "chiesto spostare -> -8.189645793903221e-05\n",
      "spaziose pulizia -> -8.313094674195736e-05\n",
      "tornare visitare -> -8.71080545846913e-05\n",
      "trovato senza -> -8.799947027786401e-05\n",
      "negozi abbigliamento -> -8.813827939710142e-05\n",
      "varie docce -> -9.15095453673666e-05\n",
      "stata spenta -> -9.23625295261589e-05\n",
      "sottolineare presenza -> -9.53982905016611e-05\n",
      "fino quasi -> -0.00010952620649942399\n",
      "pulita arrivo -> -0.0001259577731009518\n",
      "standard americani -> -0.0001288723851871884\n",
      "tangenziale mestre -> -0.00013484507919094655\n",
      "perche bisogno -> -0.00013996478036814737\n",
      "ristoranti stati -> -0.00014892449970510893\n",
      "struttura marito -> -0.00015267683190202887\n",
      "buono veramente -> -0.00015827532127175444\n",
      "buoni mangiare -> -0.00016252903923081243\n",
      "idee cosa -> -0.0001637943432277429\n",
      "confort pulizia -> -0.0001694988536241255\n",
      "inquanto -> -0.00017373145457333472\n",
      "dice molto -> -0.00017571094746982385\n",
      "macchina fino -> -0.00018590579588663976\n",
      "accoglienza ambiente -> -0.00018809295471915863\n",
      "piacevole vedere -> -0.0001943812376073861\n",
      "davanti quindi -> -0.00020483420054850273\n",
      "qualita luogo -> -0.00020898719708836724\n",
      "posto favola -> -0.00021308873474803062\n",
      "direttamente campo -> -0.00022158994339394996\n",
      "passato veramente -> -0.0002480909199487784\n",
      "adulti ragazzo -> -0.00024871810695185995\n",
      "bello affacciano -> -0.0002504723053348963\n",
      "vacanza magnifico -> -0.00025119848498636384\n",
      "appena tenuto -> -0.0002561251981465127\n",
      "sconvolgere -> -0.00027485505074222353\n",
      "week milano -> -0.0002777453198020929\n",
      "beccare -> -0.00028076249473848303\n"
     ],
     "output_type": "stream"
    }
   ],
   "source": [
    "coefs = np.array(clf.coef_)\n",
    "coefs = coefs.reshape((coefs.shape[1],))\n",
    "\n",
    "features = vectorizer.get_feature_names()\n",
    "sorted_feat = [features[i] for i in coefs.argsort()[::-1]]\n",
    "i = 0\n",
    "for feat, coef in zip(sorted_feat, np.sort(coefs)[::-1]):\n",
    "    if coef > 0:\n",
    "        continue\n",
    "    print(f\"{feat} -> {coef}\")\n",
    "    i += 1\n",
    "    if i == 50:\n",
    "        break\n",
    "        "
   ],
   "metadata": {
    "collapsed": false,
    "pycharm": {
     "name": "#%%\n",
     "is_executing": false
    }
   }
  }
 ],
 "metadata": {
  "kernelspec": {
   "display_name": "Python 3",
   "language": "python",
   "name": "python3"
  },
  "language_info": {
   "codemirror_mode": {
    "name": "ipython",
    "version": 2
   },
   "file_extension": ".py",
   "mimetype": "text/x-python",
   "name": "python",
   "nbconvert_exporter": "python",
   "pygments_lexer": "ipython2",
   "version": "2.7.6"
  },
  "pycharm": {
   "stem_cell": {
    "cell_type": "raw",
    "source": [],
    "metadata": {
     "collapsed": false
    }
   }
  }
 },
 "nbformat": 4,
 "nbformat_minor": 0
}