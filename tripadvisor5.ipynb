{
 "cells": [
  {
   "cell_type": "markdown",
   "source": [
    "#Functions to read devset and evalset and labels conversion"
   ],
   "metadata": {
    "collapsed": false,
    "pycharm": {
     "name": "#%% md\n"
    }
   }
  },
  {
   "cell_type": "code",
   "execution_count": 19,
   "outputs": [],
   "source": [
    "import csv\n",
    "import numpy as np\n",
    "\n",
    "def read_devset():\n",
    "    X = []\n",
    "    y = []\n",
    "    with open(\"datasets/development.csv\", encoding=\"utf8\") as dev_set:\n",
    "        reader = csv.reader(dev_set)\n",
    "        next(reader)\n",
    "        for row in reader:\n",
    "            X.append(row[0])\n",
    "            y.append(row[1])\n",
    "    \n",
    "    return X, labels_to_ints(y)\n",
    "\n",
    "def read_evalset():\n",
    "    X = []\n",
    "    with open(\"datasets/evaluation.csv\", encoding=\"utf8\") as eval_set:\n",
    "        reader = csv.reader(eval_set)\n",
    "        next(reader)\n",
    "        for row in reader:\n",
    "            X.append(row[0])\n",
    "    \n",
    "    return X\n",
    "def labels_to_ints(labels):\n",
    "    return np.array(list(map(lambda x : 1 if x == \"pos\" else 0, labels)))\n",
    "\n",
    "def ints_to_labels(labels):\n",
    "    return list(map(lambda x : \"pos\" if x == 1 else \"neg\", labels))\n"
   ],
   "metadata": {
    "collapsed": false,
    "pycharm": {
     "name": "#%%\n",
     "is_executing": false
    }
   }
  },
  {
   "cell_type": "code",
   "execution_count": 20,
   "outputs": [
    {
     "data": {
      "text/plain": "41077"
     },
     "metadata": {},
     "output_type": "execute_result",
     "execution_count": 20
    }
   ],
   "source": [
    "X, y = read_devset()\n",
    "X_ev = read_evalset()\n",
    "len(X) + len(X_ev)"
   ],
   "metadata": {
    "collapsed": false,
    "pycharm": {
     "name": "#%%\n",
     "is_executing": false
    }
   }
  },
  {
   "cell_type": "code",
   "execution_count": 21,
   "outputs": [],
   "source": [
    "from sklearn.model_selection import train_test_split\n",
    "X_train, X_test, y_train, y_test = train_test_split(X,y, shuffle=True)"
   ],
   "metadata": {
    "collapsed": false,
    "pycharm": {
     "name": "#%%\n",
     "is_executing": false
    }
   }
  },
  {
   "cell_type": "code",
   "execution_count": 22,
   "outputs": [],
   "source": [
    "from nltk.tokenize import word_tokenize\n",
    "from nltk.stem.wordnet import WordNetLemmatizer\n",
    "import string\n",
    "import re\n",
    "\n",
    "def preprocess_word(text):\n",
    "    text = text.lower()\n",
    "    text = re.sub('((www\\.[^\\s]+)|(https?://[^\\s]+))', 'url', text) # remove URLs\n",
    "    text = re.sub(r\"(^[a-zA-Z0-9_.+-]+@[a-zA-Z0-9-]+\\.[a-zA-Z0-9-.]+$)\", \"email\", text) # remove email\n",
    "    text = re.sub('@[^\\s]+', 'at', text) # remove eventually @<word>\n",
    "    text = re.sub(r'#([^\\s]+)', r'\\1', text) # remove eventually hashtag \n",
    "    text = re.sub(r'[#@]', \" \", text) # remove eventually isolated @#\n",
    "    text = re.sub(\"'\", \"' \", text)  #insert a space in every word with the <'> in order to be catched by tokenizer and filtered\n",
    "    text = re.sub(r\"([.]*)([0-9]+)([.]*)\", r\"\\0 \\1\", text) # i.e ciao123come20va -> ciao come va\n",
    "    text = re.sub(\"([*.\\-/+])\", \" \", text) # remove special characters from words of kind \"..<word>\" \"***\" \"-<word>\" \"..<word>\"\n",
    "    return text\n",
    "\n",
    "class LemmaTokenizer(object):\n",
    "    def __init__(self):\n",
    "        self.lemmatizer = WordNetLemmatizer()\n",
    "    \n",
    "    def __call__(self, text):\n",
    "        lemmas = []\n",
    "        regex = re.compile(\"[0-9]+\")\n",
    "        \n",
    "        text = preprocess_word(text)\n",
    "        for t in word_tokenize(text):\n",
    "            t = t.strip()\n",
    "            lemma = self.lemmatizer.lemmatize(t, )\n",
    "            if lemma not in string.punctuation and 3 < len(lemma) < 16 and not regex.match(lemma):\n",
    "                lemmas.append(lemma)\n",
    "        return lemmas\n"
   ],
   "metadata": {
    "collapsed": false,
    "pycharm": {
     "name": "#%%\n",
     "is_executing": false
    }
   }
  },
  {
   "cell_type": "code",
   "execution_count": 23,
   "outputs": [],
   "source": [
    "from sklearn.model_selection import ParameterGrid\n",
    "from nltk.corpus import stopwords as sw\n",
    "lemmaTokenizer = LemmaTokenizer()\n",
    "stopwords = sw.words('italian') + ['quantum', \"url\", \"at\", \"email\", 'avra', 'avro', 'fara', 'faro', 'perche', 'sara', 'saro', 'stara', 'staro']\n",
    "params = {\n",
    "    \"input\": [\"content\"],\n",
    "    \"tokenizer\": [lemmaTokenizer],\n",
    "    \"stop_words\": [stopwords],\n",
    "    \"binary\": [True],\n",
    "    \"min_df\": [1, 2, 3],\n",
    "    \"ngram_range\": [(1,1), (1,2)]\n",
    "}\n",
    "configs = ParameterGrid(params)"
   ],
   "metadata": {
    "collapsed": false,
    "pycharm": {
     "name": "#%%\n",
     "is_executing": false
    }
   }
  },
  {
   "cell_type": "code",
   "execution_count": 24,
   "outputs": [],
   "source": [
    "from sklearn.feature_extraction.text import TfidfVectorizer\n",
    "vectorizers = []\n",
    "X_train_sets = []\n",
    "X_test_sets = []\n",
    "for conf in configs:\n",
    "    vectorizer = TfidfVectorizer(**conf)\n",
    "    X_train_sets.append(vectorizer.fit_transform(X_train, y_train))\n",
    "    X_test_sets.append(vectorizer.transform(X_test))\n",
    "    vectorizers.append(vectorizer)"
   ],
   "metadata": {
    "collapsed": false,
    "pycharm": {
     "name": "#%%\n",
     "is_executing": false
    }
   }
  },
  {
   "cell_type": "code",
   "execution_count": 25,
   "outputs": [
    {
     "name": "stdout",
     "text": [
      "(1, 1): 44725\n",
      "(1, 2): 712294\n",
      "(1, 1): 23620\n",
      "(1, 2): 149596\n",
      "(1, 1): 17900\n",
      "(1, 2): 81779\n"
     ],
     "output_type": "stream"
    }
   ],
   "source": [
    "for conf, vec in zip(configs, vectorizers):\n",
    "    print(f\"{conf['ngram_range']}: {len(vec.vocabulary_)}\")\n",
    "    "
   ],
   "metadata": {
    "collapsed": false,
    "pycharm": {
     "name": "#%%\n",
     "is_executing": false
    }
   }
  },
  {
   "cell_type": "code",
   "execution_count": 26,
   "outputs": [
    {
     "name": "stdout",
     "text": [
      "Vocabulary size: 44725\n",
      "X_train:\n",
      "<21565x44725 sparse matrix of type '<class 'numpy.float64'>'\n",
      "\twith 1155377 stored elements in Compressed Sparse Row format>\n",
      "X_test: \n",
      "<7189x44725 sparse matrix of type '<class 'numpy.float64'>'\n",
      "\twith 377769 stored elements in Compressed Sparse Row format>\n",
      "Vocabulary size: 712294\n",
      "X_train:\n",
      "<21565x712294 sparse matrix of type '<class 'numpy.float64'>'\n",
      "\twith 2421049 stored elements in Compressed Sparse Row format>\n",
      "X_test: \n",
      "<7189x712294 sparse matrix of type '<class 'numpy.float64'>'\n",
      "\twith 620489 stored elements in Compressed Sparse Row format>\n",
      "Vocabulary size: 23620\n",
      "X_train:\n",
      "<21565x23620 sparse matrix of type '<class 'numpy.float64'>'\n",
      "\twith 1134272 stored elements in Compressed Sparse Row format>\n",
      "X_test: \n",
      "<7189x23620 sparse matrix of type '<class 'numpy.float64'>'\n",
      "\twith 374029 stored elements in Compressed Sparse Row format>\n",
      "Vocabulary size: 149596\n",
      "X_train:\n",
      "<21565x149596 sparse matrix of type '<class 'numpy.float64'>'\n",
      "\twith 1858351 stored elements in Compressed Sparse Row format>\n",
      "X_test: \n",
      "<7189x149596 sparse matrix of type '<class 'numpy.float64'>'\n",
      "\twith 575175 stored elements in Compressed Sparse Row format>\n",
      "Vocabulary size: 17900\n",
      "X_train:\n",
      "<21565x17900 sparse matrix of type '<class 'numpy.float64'>'\n",
      "\twith 1122832 stored elements in Compressed Sparse Row format>\n",
      "X_test: \n",
      "<7189x17900 sparse matrix of type '<class 'numpy.float64'>'\n",
      "\twith 371067 stored elements in Compressed Sparse Row format>\n",
      "Vocabulary size: 81779\n",
      "X_train:\n",
      "<21565x81779 sparse matrix of type '<class 'numpy.float64'>'\n",
      "\twith 1722717 stored elements in Compressed Sparse Row format>\n",
      "X_test: \n",
      "<7189x81779 sparse matrix of type '<class 'numpy.float64'>'\n",
      "\twith 549905 stored elements in Compressed Sparse Row format>\n"
     ],
     "output_type": "stream"
    }
   ],
   "source": [
    "for vec, train, test in zip(vectorizers,X_train_sets, X_test_sets):\n",
    "    print(\"Vocabulary size: {}\".format(len(vec.vocabulary_)))\n",
    "    print(\"X_train:\\n{}\".format(repr(train)))\n",
    "    print(\"X_test: \\n{}\".format(repr(test)))\n",
    "    "
   ],
   "metadata": {
    "collapsed": false,
    "pycharm": {
     "name": "#%%\n",
     "is_executing": false
    }
   }
  },
  {
   "cell_type": "code",
   "execution_count": 27,
   "outputs": [],
   "source": [
    "from sklearn.model_selection import GridSearchCV\n",
    "from sklearn.linear_model import LogisticRegression\n",
    "\n",
    "grids = []\n",
    "param_grid = {'C': [0.1, 1, 10], 'max_iter': [200], 'multi_class': ['ovr'], 'n_jobs': [4]}\n",
    "for train, vec in zip(X_train_sets, vectorizers):\n",
    "    grid = GridSearchCV(LogisticRegression(), param_grid, cv=5, scoring='f1')\n",
    "    grid.fit(train, y_train)\n",
    "    grids.append(grid)\n",
    "    "
   ],
   "metadata": {
    "collapsed": false,
    "pycharm": {
     "name": "#%%\n",
     "is_executing": false
    }
   }
  },
  {
   "cell_type": "code",
   "execution_count": 28,
   "outputs": [
    {
     "name": "stdout",
     "text": [
      "Best f1 score: 0.9729723907261889\n",
      "Best parameters: {'C': 10000, 'class_weight': 'balanced', 'max_iter': 200, 'multi_class': 'ovr', 'n_jobs': 4}\n",
      "Best estimator: LogisticRegression(C=10000, class_weight='balanced', dual=False,\n",
      "                   fit_intercept=True, intercept_scaling=1, l1_ratio=None,\n",
      "                   max_iter=200, multi_class='ovr', n_jobs=4, penalty='l2',\n",
      "                   random_state=None, solver='lbfgs', tol=0.0001, verbose=0,\n",
      "                   warm_start=False)\n"
     ],
     "output_type": "stream"
    }
   ],
   "source": [
    "scores = list(map(lambda x: x.best_score_, grids))\n",
    "print(f\"Best f1 score: {np.max(scores)}\")\n",
    "best_params = grids[int(np.argmax(scores))].best_params_\n",
    "print(f\"Best parameters: {best_params}\")\n",
    "best_estimator = grids[int(np.argmax(scores))].best_estimator_\n",
    "print(f\"Best estimator: {best_estimator}\")\n",
    "best_vectorizer_params = vectorizers[int(np.argmax(scores))].get_params()"
   ],
   "metadata": {
    "collapsed": false,
    "pycharm": {
     "name": "#%%\n",
     "is_executing": false
    }
   }
  },
  {
   "cell_type": "markdown",
   "source": [
    "FINAL TRAIN"
   ],
   "metadata": {
    "collapsed": false,
    "pycharm": {
     "name": "#%% md\n",
     "is_executing": false
    }
   }
  },
  {
   "cell_type": "code",
   "execution_count": 29,
   "outputs": [],
   "source": [
    "best_vectorizer_params['strip_accents'] = 'unicode' #Added now because of too much computational time need to find best params\n",
    "vectorizer = TfidfVectorizer(**best_vectorizer_params)\n",
    "X_tfidf_train = vectorizer.fit_transform(X, y)\n",
    "X_tfidf_test = vectorizer.transform(X_ev)\n",
    "\n",
    "clf = LogisticRegression(**best_params)\n",
    "clf.fit(X_tfidf_train, y)\n",
    "y_pred = clf.predict(X_tfidf_test)\n"
   ],
   "metadata": {
    "collapsed": false,
    "pycharm": {
     "name": "#%%\n",
     "is_executing": false
    }
   }
  },
  {
   "cell_type": "code",
   "execution_count": 30,
   "outputs": [],
   "source": [
    "with open(\"datasets/sample_submission5.csv\", \"w\", encoding=\"utf8\") as sub:\n",
    "    sub.write(\"Id,Predicted\\n\")\n",
    "    for i, label in enumerate(ints_to_labels(y_pred)):\n",
    "        sub.write(f\"{i},{label}\\n\")\n",
    "        \n"
   ],
   "metadata": {
    "collapsed": false,
    "pycharm": {
     "name": "#%%\n",
     "is_executing": false
    }
   }
  },
  {
   "cell_type": "code",
   "execution_count": 31,
   "outputs": [
    {
     "name": "stdout",
     "text": [
      "vicino albergo -> -4.7261723251191894e-07\n",
      "accessibile senza -> -2.199351485168593e-06\n",
      "ombrellone sdraie -> -3.390571892761249e-06\n",
      "entrando sembra -> -3.999289014970257e-06\n",
      "solo piatto -> -4.205552414508802e-06\n",
      "ovunque corridoi -> -5.569947424646523e-06\n",
      "supermercato minuti -> -6.149896657216097e-06\n",
      "volta primo -> -6.310632066563461e-06\n",
      "molto arrivo -> -7.105661484683297e-06\n",
      "aver messo -> -7.671802631618635e-06\n",
      "poterci subito -> -7.835981614082526e-06\n",
      "vacanza magnifico -> -8.319558067071546e-06\n",
      "aria pieni -> -8.409866374325661e-06\n",
      "godere terrazza -> -9.88068343798491e-06\n",
      "vacanza altro -> -1.2156419119962742e-05\n",
      "centrale realta -> -1.2196043207366587e-05\n",
      "direzione mare -> -1.231798143004878e-05\n",
      "camera camerieri -> -1.2324860406328007e-05\n",
      "rilassante molto -> -1.2799416310149921e-05\n",
      "quantita offerta -> -1.2960210613778973e-05\n",
      "inviare alcuni -> -1.3381840153757816e-05\n",
      "meraviglioso situato -> -1.5598784920740115e-05\n",
      "foglietto -> -1.5717029181131387e-05\n",
      "qualita connessione -> -1.6038244068458496e-05\n",
      "dopo fine -> -1.632719998605744e-05\n",
      "fuori piena -> -1.6491229483161584e-05\n",
      "locale piuttosto -> -1.768399603094283e-05\n",
      "trovato difficolta -> -2.0767469517791507e-05\n",
      "meno circa -> -2.1816020003083038e-05\n",
      "stata interessante -> -2.2624337993026097e-05\n",
      "quel denaro -> -2.3101440796574397e-05\n",
      "forte difficile -> -2.429495089359008e-05\n",
      "pagamento specificato -> -2.4303752269501006e-05\n",
      "controllato dopo -> -2.4509175140153277e-05\n",
      "presenza camera -> -2.610178910324615e-05\n",
      "diffusori -> -2.7985473047887165e-05\n",
      "letto piume -> -2.8106387468183123e-05\n",
      "centrale posto -> -2.9492319535791488e-05\n",
      "viaggio sentito -> -2.9776622201853293e-05\n",
      "offerto modo -> -3.0116410979967388e-05\n",
      "usciti albergo -> -3.144446207239728e-05\n",
      "camerieri colazione -> -3.160866803381231e-05\n",
      "magari camera -> -3.278653870954697e-05\n",
      "moderna carina -> -3.388018924683352e-05\n",
      "aspettativa avere -> -3.409143730414315e-05\n",
      "buona almeno -> -3.4514809316947005e-05\n",
      "nordica -> -3.4647852932827715e-05\n",
      "proprio limite -> -3.539558662166826e-05\n",
      "approssimativa cosi -> -3.56931588370396e-05\n",
      "andare scegliere -> -3.646636618843342e-05\n"
     ],
     "output_type": "stream"
    }
   ],
   "source": [
    "coefs = np.array(clf.coef_)\n",
    "coefs = coefs.reshape((coefs.shape[1],))\n",
    "\n",
    "features = vectorizer.get_feature_names()\n",
    "sorted_feat = [features[i] for i in coefs.argsort()[::-1]]\n",
    "i = 0\n",
    "for feat, coef in zip(sorted_feat, np.sort(coefs)[::-1]):\n",
    "    if coef > 0:\n",
    "        continue\n",
    "    print(f\"{feat} -> {coef}\")\n",
    "    i += 1\n",
    "    if i == 50:\n",
    "        break\n",
    "        "
   ],
   "metadata": {
    "collapsed": false,
    "pycharm": {
     "name": "#%%\n",
     "is_executing": false
    }
   }
  }
 ],
 "metadata": {
  "kernelspec": {
   "display_name": "Python 3",
   "language": "python",
   "name": "python3"
  },
  "language_info": {
   "codemirror_mode": {
    "name": "ipython",
    "version": 2
   },
   "file_extension": ".py",
   "mimetype": "text/x-python",
   "name": "python",
   "nbconvert_exporter": "python",
   "pygments_lexer": "ipython2",
   "version": "2.7.6"
  },
  "pycharm": {
   "stem_cell": {
    "cell_type": "raw",
    "source": [],
    "metadata": {
     "collapsed": false
    }
   }
  }
 },
 "nbformat": 4,
 "nbformat_minor": 0
}