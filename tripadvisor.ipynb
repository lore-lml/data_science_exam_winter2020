{
 "cells": [
  {
   "cell_type": "markdown",
   "metadata": {
    "collapsed": true,
    "pycharm": {
     "name": "#%% md\n"
    }
   },
   "source": [
    "Functions to read devset and evalset and labels conversion"
   ]
  },
  {
   "cell_type": "code",
   "execution_count": 1,
   "outputs": [],
   "source": [
    "import csv\n",
    "import numpy as np\n",
    "def read_devset():\n",
    "    X = []\n",
    "    y = []\n",
    "    with open(\"datasets/development.csv\", encoding=\"utf8\") as dev_set:\n",
    "        reader = csv.reader(dev_set)\n",
    "        next(reader)\n",
    "        for row in reader:\n",
    "            X.append(row[0])\n",
    "            y.append(row[1])\n",
    "    \n",
    "    return X, labels_to_ints(y)\n",
    "\n",
    "def read_evalset():\n",
    "    X = []\n",
    "    with open(\"datasets/evaluation.csv\", encoding=\"utf8\") as eval_set:\n",
    "        reader = csv.reader(eval_set)\n",
    "        next(reader)\n",
    "        for row in reader:\n",
    "            X.append(row[0])\n",
    "    \n",
    "    return X\n",
    "def labels_to_ints(labels):\n",
    "    return np.array(list(map(lambda x : 1 if x == \"pos\" else 0, labels)))\n",
    "\n",
    "def ints_to_labels(labels):\n",
    "    return list(map(lambda x : \"pos\" if x == 1 else \"neg\", labels))\n",
    "\n"
   ],
   "metadata": {
    "collapsed": false,
    "pycharm": {
     "name": "#%%\n",
     "is_executing": false
    }
   }
  },
  {
   "cell_type": "code",
   "execution_count": 2,
   "outputs": [],
   "source": [
    "X, y = read_devset()\n",
    "X_ev = read_evalset()\n",
    "len(X) + len(X_ev)"
   ],
   "metadata": {
    "collapsed": false,
    "pycharm": {
     "name": "#%%\n",
     "is_executing": false
    }
   }
  },
  {
   "cell_type": "code",
   "execution_count": 3,
   "outputs": [],
   "source": [
    "from nltk.tokenize import word_tokenize\n",
    "from nltk.stem.wordnet import WordNetLemmatizer\n",
    "import string\n",
    "import re\n",
    "\n",
    "def preprocess_word(text):\n",
    "    text = text.lower()\n",
    "    text = re.sub('((www\\.[^\\s]+)|(https?://[^\\s]+))', 'url', text) # remove URLs\n",
    "    text = re.sub(r\"(^[a-zA-Z0-9_.+-]+@[a-zA-Z0-9-]+\\.[a-zA-Z0-9-.]+$)\", \"email\", text)\n",
    "    text = re.sub('@[^\\s]+', 'at_user', text) # remove usernames\n",
    "    text = re.sub(r'#([^\\s]+)', r'\\1', text) # remove the # in #hashtag\n",
    "    text = re.sub(\"'\", \"' \", text)\n",
    "    return text\n",
    "\n",
    "class LemmaTokenizer(object):\n",
    "    def __init__(self):\n",
    "        self.lemmatizer = WordNetLemmatizer()\n",
    "    \n",
    "    def __call__(self, text):\n",
    "        lemmas = []\n",
    "        regex = re.compile(\"[0-9]+\")\n",
    "        \n",
    "        text = preprocess_word(text)\n",
    "        for t in word_tokenize(text):\n",
    "            t = t.strip()\n",
    "            lemma = self.lemmatizer.lemmatize(t)\n",
    "            if lemma not in string.punctuation and 3 < len(lemma) < 16 and not regex.match(lemma) and \"@\" not in lemma and \"#\" not in lemma:\n",
    "                lemmas.append(lemma)\n",
    "        return lemmas\n",
    "    "
   ],
   "metadata": {
    "collapsed": false,
    "pycharm": {
     "name": "#%%\n",
     "is_executing": false
    }
   }
  },
  {
   "cell_type": "code",
   "execution_count": 9,
   "outputs": [],
   "source": [
    "from nltk.corpus import stopwords as sw\n",
    "from sklearn.feature_extraction.text import TfidfVectorizer\n",
    "\n",
    "def tfidf(X):\n",
    "    stopwords = sw.words('italian') + ['quantum', \"url\", \"at_user\", \"email\"]\n",
    "    lemmaTokenizer = LemmaTokenizer()\n",
    "    # Trasforma le liste di token in numeri che vengono inseriti in una matrice di numpy float in modo da poterli analizzare\n",
    "    vectorizer = TfidfVectorizer(input=\"content\", tokenizer=lemmaTokenizer, stop_words=stopwords)\n",
    "    return vectorizer.fit_transform(X)"
   ],
   "metadata": {
    "collapsed": false,
    "pycharm": {
     "name": "#%%\n",
     "is_executing": false
    }
   }
  },
  {
   "cell_type": "code",
   "execution_count": 10,
   "outputs": [],
   "source": [
    "tfidf_X = tfidf(X)\n",
    "tfidf_X\n",
    "\n"
   ],
   "metadata": {
    "collapsed": false,
    "pycharm": {
     "name": "#%%\n",
     "is_executing": false
    }
   }
  },
  {
   "cell_type": "code",
   "execution_count": 5,
   "outputs": [],
   "source": [
    "from sklearn.ensemble import RandomForestClassifier\n",
    "from sklearn.model_selection import train_test_split\n",
    "from sklearn.metrics import f1_score\n",
    "X_train, X_test, y_train, y_test = train_test_split(tfidf_X, y)\n",
    "clf = RandomForestClassifier(n_estimators=100, max_features=\"sqrt\", criterion=\"gini\")\n",
    "clf.fit(X_train, y_train)\n",
    "f1_score(y_test, clf.predict(X_test))"
   ],
   "metadata": {
    "collapsed": false,
    "pycharm": {
     "name": "#%%\n",
     "is_executing": false
    }
   }
  },
  {
   "cell_type": "code",
   "execution_count": 6,
   "outputs": [],
   "source": [
    "from sklearn.model_selection import KFold, ParameterGrid\n",
    "params = {\n",
    "    \"n_estimators\": [10, 50, 100],\n",
    "    \"max_features\": [\"sqrt\"],\n",
    "    \"criterion\": [\"gini\"],\n",
    "    \"min_impurity_decrease\": [0, .01, .05]\n",
    "}\n",
    "\n",
    "kf = KFold(3)\n",
    "\n",
    "f1s = []\n",
    "for config in ParameterGrid(params):\n",
    "    clf_f1s = []\n",
    "    counts = []\n",
    "    for train_indices, valid_indices in kf.split(X_train):\n",
    "        X_t = X_train[train_indices]\n",
    "        y_t = y_train[train_indices]\n",
    "        X_v = X_train[valid_indices]\n",
    "        y_v = y_train[valid_indices]\n",
    "        # keep track of the number of elements in each split\n",
    "        counts.append(len(train_indices))\n",
    "        clf = RandomForestClassifier(**config)\n",
    "        clf.fit(X_t, y_t)\n",
    "        acc = f1_score(y_v, clf.predict(X_v))\n",
    "        clf_f1s.append(acc)\n",
    "    f1s.append(np.average(clf_f1s, weights=counts))"
   ],
   "metadata": {
    "collapsed": false,
    "pycharm": {
     "name": "#%%\n",
     "is_executing": false
    }
   }
  },
  {
   "cell_type": "code",
   "execution_count": 12,
   "outputs": [],
   "source": [
    "tfidf_ev = tfidf(X_ev)\n",
    "\n",
    "best_config = list(ParameterGrid(params))[int(np.argmax(f1s))]\n",
    "clf = RandomForestClassifier(**best_config)\n",
    "clf.fit(tfidf_X, y)\n",
    "y_pred = clf.predict(tfidf_ev) "
   ],
   "metadata": {
    "collapsed": false,
    "pycharm": {
     "name": "#%%\n",
     "is_executing": false
    }
   }
  }
 ],
 "metadata": {
  "kernelspec": {
   "display_name": "Python 3",
   "language": "python",
   "name": "python3"
  },
  "language_info": {
   "codemirror_mode": {
    "name": "ipython",
    "version": 2
   },
   "file_extension": ".py",
   "mimetype": "text/x-python",
   "name": "python",
   "nbconvert_exporter": "python",
   "pygments_lexer": "ipython2",
   "version": "2.7.6"
  },
  "pycharm": {
   "stem_cell": {
    "cell_type": "raw",
    "source": [],
    "metadata": {
     "collapsed": false
    }
   }
  }
 },
 "nbformat": 4,
 "nbformat_minor": 0
}