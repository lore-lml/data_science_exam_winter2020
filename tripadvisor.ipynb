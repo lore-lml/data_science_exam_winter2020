{
 "cells": [
  {
   "cell_type": "markdown",
   "metadata": {
    "collapsed": true,
    "pycharm": {
     "name": "#%% md\n"
    }
   },
   "source": [
    "Functions to read devset and evalset and labels conversion"
   ]
  },
  {
   "cell_type": "code",
   "execution_count": 13,
   "outputs": [],
   "source": [
    "import csv\n",
    "def read_devset():\n",
    "    X = []\n",
    "    y = []\n",
    "    with open(\"datasets/development.csv\", encoding=\"utf8\") as dev_set:\n",
    "        reader = csv.reader(dev_set)\n",
    "        next(reader)\n",
    "        for row in reader:\n",
    "            X.append(row[0])\n",
    "            y.append(row[1])\n",
    "    \n",
    "    return X, labels_to_ints(y)\n",
    "\n",
    "def read_evalset():\n",
    "    X = []\n",
    "    with open(\"datasets/evaluation.csv\", encoding=\"utf8\") as eval_set:\n",
    "        reader = csv.reader(eval_set)\n",
    "        next(reader)\n",
    "        for row in reader:\n",
    "            X.append(row[0])\n",
    "    \n",
    "    return X\n",
    "def labels_to_ints(labels):\n",
    "    return list(map(lambda x : 1 if x == \"pos\" else 0, labels))\n",
    "\n",
    "def ints_to_labels(labels):\n",
    "    return list(map(lambda x : \"pos\" if x == 1 else \"neg\", labels))\n",
    "\n"
   ],
   "metadata": {
    "collapsed": false,
    "pycharm": {
     "name": "#%%\n",
     "is_executing": false
    }
   }
  },
  {
   "cell_type": "code",
   "execution_count": 14,
   "outputs": [
    {
     "data": {
      "text/plain": "41077"
     },
     "metadata": {},
     "output_type": "execute_result",
     "execution_count": 14
    }
   ],
   "source": [
    "X, y = read_devset()\n",
    "X_ev = read_evalset()\n",
    "len(X) + len(X_ev)"
   ],
   "metadata": {
    "collapsed": false,
    "pycharm": {
     "name": "#%%\n",
     "is_executing": false
    }
   }
  },
  {
   "cell_type": "code",
   "execution_count": 25,
   "outputs": [],
   "source": [
    "from nltk.tokenize import word_tokenize\n",
    "from nltk.stem.wordnet import WordNetLemmatizer\n",
    "import string\n",
    "import re\n",
    "\n",
    "def preprocess_word(text):\n",
    "    text = text.lower()\n",
    "    text = re.sub('((www\\.[^\\s]+)|(https?://[^\\s]+))', 'url', text) # remove URLs\n",
    "    text = re.sub(r\"(^[a-zA-Z0-9_.+-]+@[a-zA-Z0-9-]+\\.[a-zA-Z0-9-.]+$)\", \"email\", text)\n",
    "    text = re.sub('@[^\\s]+', 'at_user', text) # remove usernames\n",
    "    text = re.sub(r'#([^\\s]+)', r'\\1', text) # remove the # in #hashtag\n",
    "    text = re.sub(\"'\", \"' \", text)\n",
    "    return text\n",
    "\n",
    "class LemmaTokenizer(object):\n",
    "    def __init__(self):\n",
    "        self.lemmatizer = WordNetLemmatizer()\n",
    "    \n",
    "    def __call__(self, text):\n",
    "        lemmas = []\n",
    "        regex = re.compile(\"[0-9]+\")\n",
    "        \n",
    "        text = preprocess_word(text)\n",
    "        for t in word_tokenize(text):\n",
    "            t = t.strip()\n",
    "            lemma = self.lemmatizer.lemmatize(t)\n",
    "            if lemma not in string.punctuation and 3 < len(lemma) < 16 and not regex.match(lemma) and \"@\" not in lemma and \"#\" not in lemma:\n",
    "                lemmas.append(lemma)\n",
    "        return lemmas\n",
    "    "
   ],
   "metadata": {
    "collapsed": false,
    "pycharm": {
     "name": "#%%\n",
     "is_executing": false
    }
   }
  },
  {
   "cell_type": "code",
   "execution_count": 26,
   "outputs": [
    {
     "data": {
      "text/plain": "<28754x58892 sparse matrix of type '<class 'numpy.float64'>'\n\twith 1538645 stored elements in Compressed Sparse Row format>"
     },
     "metadata": {},
     "output_type": "execute_result",
     "execution_count": 26
    }
   ],
   "source": [
    "from nltk.corpus import stopwords as sw\n",
    "from sklearn.feature_extraction.text import TfidfVectorizer\n",
    "\n",
    "stopwords = sw.words('italian') + ['quantum', \"url\", \"at_user\", \"email\"]\n",
    "lemmaTokenizer = LemmaTokenizer()\n",
    "# Trasforma le liste di token in numeri che vengono inseriti in una matrice di numpy float in modo da poterli analizzare\n",
    "vectorizer = TfidfVectorizer(input=\"content\", tokenizer=lemmaTokenizer, stop_words=stopwords)\n",
    "tfidf_X = vectorizer.fit_transform(X)\n",
    "tfidf_X\n"
   ],
   "metadata": {
    "collapsed": false,
    "pycharm": {
     "name": "#%%\n",
     "is_executing": false
    }
   }
  },
  {
   "cell_type": "markdown",
   "source": [
    "PCA Process\n"
   ],
   "metadata": {
    "collapsed": false,
    "pycharm": {
     "name": "#%% md\n",
     "is_executing": false
    }
   }
  },
  {
   "cell_type": "code",
   "execution_count": 9,
   "outputs": [
    {
     "name": "stdout",
     "text": [
      "Total variance explained: 0.69\n"
     ],
     "output_type": "stream"
    },
    {
     "data": {
      "text/plain": "(28754, 3000)"
     },
     "metadata": {},
     "output_type": "execute_result",
     "execution_count": 9
    }
   ],
   "source": [
    "import numpy as np\n",
    "from sklearn.decomposition import TruncatedSVD\n",
    "svd = TruncatedSVD(n_components=3000, random_state=42)\n",
    "svd_X = svd.fit_transform(tfidf_X)\n",
    "print(f\"Total variance explained: {np.sum(svd.explained_variance_ratio_):.2f}\")\n",
    "np.shape(svd_X)"
   ],
   "metadata": {
    "collapsed": false,
    "pycharm": {
     "name": "#%%\n",
     "is_executing": false
    }
   }
  },
  {
   "cell_type": "code",
   "execution_count": 31,
   "outputs": [
    {
     "data": {
      "text/plain": "0.9371260421775379"
     },
     "metadata": {},
     "output_type": "execute_result",
     "execution_count": 31
    }
   ],
   "source": [
    "from sklearn.ensemble import RandomForestClassifier\n",
    "from sklearn.model_selection import train_test_split\n",
    "from sklearn.metrics import f1_score\n",
    "X_train, X_test, y_train, y_test = train_test_split(tfidf_X, y)\n",
    "clf = RandomForestClassifier(n_estimators=100, max_features=\"sqrt\", criterion=\"gini\")\n",
    "clf.fit(X_train, y_train)\n",
    "f1_score(y_test, clf.predict(X_test))"
   ],
   "metadata": {
    "collapsed": false,
    "pycharm": {
     "name": "#%%\n",
     "is_executing": false
    }
   }
  }
 ],
 "metadata": {
  "kernelspec": {
   "display_name": "Python 3",
   "language": "python",
   "name": "python3"
  },
  "language_info": {
   "codemirror_mode": {
    "name": "ipython",
    "version": 2
   },
   "file_extension": ".py",
   "mimetype": "text/x-python",
   "name": "python",
   "nbconvert_exporter": "python",
   "pygments_lexer": "ipython2",
   "version": "2.7.6"
  },
  "pycharm": {
   "stem_cell": {
    "cell_type": "raw",
    "source": [],
    "metadata": {
     "collapsed": false
    }
   }
  }
 },
 "nbformat": 4,
 "nbformat_minor": 0
}